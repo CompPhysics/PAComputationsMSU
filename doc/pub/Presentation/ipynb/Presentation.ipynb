{
 "cells": [
  {
   "cell_type": "markdown",
   "metadata": {},
   "source": [
    "<!-- dom:TITLE: Integrating a computational perspective in physics courses -->\n",
    "# Integrating a computational perspective in physics courses\n",
    "<!-- dom:AUTHOR: Danny Caballero, Sean Couch, Wade Fisher, Connor Glosser, Morten Hjorth-Jensen, Claire Kopenhafer, Brian O'Shea, and Carlo Piermarocchi -->\n",
    "<!-- Author: --> **Danny Caballero, Sean Couch, Wade Fisher, Connor Glosser, Morten Hjorth-Jensen, Claire Kopenhafer, Brian O'Shea, and Carlo Piermarocchi**\n",
    "\n",
    "Date: **Apr 11, 2017**\n",
    "\n",
    "## Wouldn't it be cool if your mechanics students could reproduce results from a PRL?\n",
    "\n",
    "<!-- dom:FIGURE: [figures/prl1.png, width=800 frac=0.5]  -->\n",
    "<!-- begin figure -->\n",
    "\n",
    "<p></p>\n",
    "<img src=\"figures/prl1.png\" width=800>\n",
    "\n",
    "<!-- end figure -->\n",
    "\n",
    "\n",
    "And perhaps even find errors?\n",
    "\n",
    "\n",
    "\n",
    "<!-- dom:FIGURE: [figures/prl2.png, width=700 frac=0.5]  -->\n",
    "<!-- begin figure -->\n",
    "\n",
    "<p></p>\n",
    "<img src=\"figures/prl2.png\" width=700>\n",
    "\n",
    "<!-- end figure -->\n",
    "\n",
    "\n",
    "\n",
    "## Unique opportunities\n",
    "Computing competence represents a central element\n",
    "in scientific problem solving, from basic education and research to\n",
    "essentially almost all advanced problems in modern\n",
    "societies. \n",
    "\n",
    "Computing competence enlarges the body of tools available to students and\n",
    "scientists beyond classical tools and allows for a more generic\n",
    "handling of problems. Focusing on algorithmic aspects results in\n",
    "deeper insights about scientific problems.\n",
    "\n",
    "\n",
    "* Computing in basic physics courses allows us to bring important elements of scientific methods at a much earlier stage in our education.\n",
    "\n",
    "* It gives the students skills and abilities which are asked for by society.\n",
    "\n",
    "* It gives us as university teachers a unique opportunity to enhance students' insights about physics and how to solve scientific problems.\n",
    "\n",
    "* Combined with a strong Physics Education group, MSU is in a unique position among big ten universities and perhaps even in the country.\n",
    "\n",
    "\n",
    "\n",
    "\n",
    "## Computing competence\n",
    "Computing means solving scientific problems using all possible tools, including symbolic computing, computers and numerical algorithms and analytical paper and pencil solutions . \n",
    "\n",
    "Computing is about developing an understanding of the scientific method  by enhancing\n",
    "algorithmic thinking when solving problems.  \n",
    "\n",
    "On the part of students, this competence involves being able to:\n",
    "\n",
    "* understand how algorithms are used to solve mathematical problems,\n",
    "\n",
    "* derive, verify, and implement algorithms,\n",
    "\n",
    "* understand what can go wrong with algorithms,\n",
    "\n",
    "* use these algorithms to construct reproducible scientific outcomes and to engage in science in ethical ways, and\n",
    "\n",
    "* think algorithmically for the purposes of gaining deeper insights about scientific problems.\n",
    "\n",
    "\n",
    "\n",
    "\n",
    "## Better understanding of the scientific method\n",
    "All these elements are central for maturing and gaining a better understanding of the modern scientific process *per se*.\n",
    "\n",
    "The power of the scientific method lies in identifying a given problem\n",
    "as a special case of an abstract class of problems, identifying\n",
    "general solution methods for this class of problems, and applying a\n",
    "general method to the specific problem (applying means, in the case of\n",
    "computing, calculations by pen and paper, symbolic computing, or\n",
    "numerical computing by ready-made and/or self-written software). This\n",
    "generic view on problems and methods is particularly important for\n",
    "understanding how to apply available, generic software to solve a\n",
    "particular problem.\n",
    "\n",
    "\n",
    "\n",
    "\n",
    "\n",
    "\n",
    "## Why should basic university education undergo a shift towards modern computing?\n",
    "\n",
    "* Algorithms involving pen and paper are traditionally aimed at what we often refer to as continuous models.\n",
    "\n",
    "* Application of computers calls for approximate discrete models.\n",
    "\n",
    "* Much of the development of methods for continuous models are now being replaced by methods  for discrete models in science and industry, simply because much larger classes of problems can be addressed with discrete models, often also by simpler and more generic methodologies.\n",
    "\n",
    "However, verification of algorithms and understanding their limitations requires much of the classical knowledge about continuous models.\n",
    "\n",
    "So, why should basic university education undergo a shift towards modern computing?\n",
    "\n",
    "The impact of the computer on mathematics and science is tremendous: science and industry now rely on solving mathematical problems through computing.\n",
    "* Computing can increase the relevance in education by solving more realistic problems earlier.\n",
    "\n",
    "* Computing through programming can be excellent training of creativity.\n",
    "\n",
    "* Computing can enhance the understanding of abstractions and generalization.\n",
    "\n",
    "* Computing can decrease the need for special tricks and tedious algebra, and shifts the focus to problem definition, visualization, and \"what if\" discussions.\n",
    "\n",
    "## Examples of simple algorithms, initial value problems and proper scaling of equations\n",
    "1. Ordinary differential equations (ODE): RLC circuit\n",
    "\n",
    "2. ODE: Classical pendulum\n",
    "\n",
    "3. ODE: Solar system\n",
    "\n",
    "4. and many more cases\n",
    "\n",
    "Can use essentially the same algorithms to solve these problems, either some simple modified Euler algorithms or some Runge-Kutta class of algorithms or perhaps the so-called Verlet class of algorithms.  Algorithms students use in one course can be reused in other courses.\n",
    "\n",
    "\n",
    "\n",
    "\n",
    "\n",
    "## Mechanics and electromagnetism, initial value problems\n",
    "**When properly scaled, these equations are essentially the same. Scaling is important.**\n",
    "\n",
    "\n",
    "Classical pendulum with damping and external force as it could appear in a mechanics course"
   ]
  },
  {
   "cell_type": "markdown",
   "metadata": {},
   "source": [
    "$$\n",
    "ml\\frac{d^2\\theta}{dt^2}+\\nu\\frac{d\\theta}{dt}  +mgsin(\\theta)=Acos(\\omega t).\n",
    "$$"
   ]
  },
  {
   "cell_type": "markdown",
   "metadata": {},
   "source": [
    "Easy to solve numerically and then visualize the solution.  \n",
    "Almost the same equation for an RLC circuit in the electromagnetism course"
   ]
  },
  {
   "cell_type": "markdown",
   "metadata": {},
   "source": [
    "$$\n",
    "L\\frac{d^2Q}{dt^2}+\\frac{Q}{C}+R\\frac{dQ}{dt}=Acos(\\omega t).\n",
    "$$"
   ]
  },
  {
   "cell_type": "markdown",
   "metadata": {},
   "source": [
    "## Mechanics and electromagnetism, initial value problems and now proper scaling\n",
    "\n",
    "Classical pendulum equations with damping and external force"
   ]
  },
  {
   "cell_type": "markdown",
   "metadata": {},
   "source": [
    "$$\n",
    "\\frac{d\\theta}{d\\hat{t}} =\\hat{v},\n",
    "$$"
   ]
  },
  {
   "cell_type": "markdown",
   "metadata": {},
   "source": [
    "and"
   ]
  },
  {
   "cell_type": "markdown",
   "metadata": {},
   "source": [
    "$$\n",
    "\\frac{d\\hat{v}}{d\\hat{t}} =Acos(\\hat{\\omega} \\hat{t})-\\hat{v}\\xi-\\sin(\\theta),\n",
    "$$"
   ]
  },
  {
   "cell_type": "markdown",
   "metadata": {},
   "source": [
    "with $\\omega_0=\\sqrt{g/l}$, $\\hat{t}=\\omega_0 t$ and $\\xi = mg/\\omega_0\\nu$. \n",
    "\n",
    "The RLC circuit"
   ]
  },
  {
   "cell_type": "markdown",
   "metadata": {},
   "source": [
    "$$\n",
    "\\frac{dQ}{d\\hat{t}} =\\hat{I},\n",
    "$$"
   ]
  },
  {
   "cell_type": "markdown",
   "metadata": {},
   "source": [
    "and"
   ]
  },
  {
   "cell_type": "markdown",
   "metadata": {},
   "source": [
    "$$\n",
    "\\frac{d\\hat{I}}{d\\hat{t}} =Acos(\\hat{\\omega} \\hat{t})-\\hat{I}\\xi-Q,\n",
    "$$"
   ]
  },
  {
   "cell_type": "markdown",
   "metadata": {},
   "source": [
    "with $\\omega_0=1/\\sqrt{LC}$, $\\hat{t}=\\omega_0 t$ and $\\xi = CR\\omega_0$. \n",
    "\n",
    "The equations are essentially the same. Great potential for abstraction.\n",
    "\n",
    "\n",
    "\n",
    "\n",
    "\n",
    "\n",
    "## Other examples of simple algorithms that can be reused in many courses, two-point boundary value problems and scaling\n",
    "These physics examples can all be studied using almost the same types of algorithms, simple eigenvalue solvers and Gaussian elimination with the same starting matrix!\n",
    "\n",
    "1. A buckling beam and Toeplitz matrices (mechanics and mathematical methods), eigenvalue problems\n",
    "\n",
    "2. A particle in an infinite potential well, quantum eigenvalue problems\n",
    "\n",
    "3. A particle (or two) in a general quantum well, quantum eigenvalue problems\n",
    "\n",
    "4. Poisson's  equation in one dim, linear algebra (electromagnetism)\n",
    "\n",
    "5. The diffusion equation in one dimension (Statistical Physics), linear algebra\n",
    "\n",
    "6. and many other cases\n",
    "\n",
    "\n",
    "\n",
    "\n",
    "\n",
    "## A buckling beam, or a quantum mechanical particle in an infinite well\n",
    "This is a two-point boundary value problem"
   ]
  },
  {
   "cell_type": "markdown",
   "metadata": {},
   "source": [
    "$$\n",
    "R \\frac{d^2 u(x)}{dx^2} = -F u(x),\n",
    "$$"
   ]
  },
  {
   "cell_type": "markdown",
   "metadata": {},
   "source": [
    "where $u(x)$ is the vertical displacement, $R$ is a material specific constant, $F$ the force and $x \\in [0,L]$ with $u(0)=u(L)=0$. \n",
    "\n",
    "Scale equations with $x = \\rho L$ and $\\rho \\in [0,1]$ and get"
   ]
  },
  {
   "cell_type": "markdown",
   "metadata": {},
   "source": [
    "$$\n",
    "\\frac{d^2 v(\\rho)}{dx^2} +K v(\\rho)=0,\n",
    "$$"
   ]
  },
  {
   "cell_type": "markdown",
   "metadata": {},
   "source": [
    "a standard eigenvalue problem with $K= FL^2/R$. \n",
    "\n",
    "If you replace $R=-\\hbar^2/2m$ and $F=\\lambda$, we have the quantum mechanical variant for a particle moving in a well with infinite walls at the endpoints.\n",
    "\n",
    "\n",
    "\n",
    "## Discretize and get the same type of problem\n",
    "Discretize the second derivative and the rhs"
   ]
  },
  {
   "cell_type": "markdown",
   "metadata": {},
   "source": [
    "$$\n",
    "-\\frac{v_{i+1} -2v_i +v_{i-i}}{h^2}=\\lambda v_i,\n",
    "$$"
   ]
  },
  {
   "cell_type": "markdown",
   "metadata": {},
   "source": [
    "with $i=1,2,\\dots, n$. We need to add to this system the two boundary conditions $v(0) =v_0$ and $v(1) = v_{n+1}$.\n",
    "The so-called Toeplitz matrix (special case from the discretized second derivative)"
   ]
  },
  {
   "cell_type": "markdown",
   "metadata": {},
   "source": [
    "$$\n",
    "\\mathbf{A} = \\frac{1}{h^2}\\left(\\begin{array}{cccccc}\n",
    "                          2 & -1 &  &   &  & \\\\\n",
    "                          -1 & 2 & -1 & & & \\\\\n",
    "                           & -1 & 2 & -1 & &  \\\\\n",
    "                           & \\dots   & \\dots &\\dots   &\\dots & \\dots \\\\\n",
    "                           &   &  &-1  &2& -1 \\\\\n",
    "                           &    &  &   &-1 & 2 \\\\\n",
    "                      \\end{array} \\right)\n",
    "$$"
   ]
  },
  {
   "cell_type": "markdown",
   "metadata": {},
   "source": [
    "with the corresponding vectors $\\mathbf{v} = (v_1, v_2, \\dots,v_n)^T$ allows us to rewrite the differential equation\n",
    "including the boundary conditions as a standard eigenvalue problem"
   ]
  },
  {
   "cell_type": "markdown",
   "metadata": {},
   "source": [
    "$$\n",
    "\\mathbf{A}\\mathbf{u} = \\lambda\\mathbf{v}.\n",
    "$$"
   ]
  },
  {
   "cell_type": "markdown",
   "metadata": {},
   "source": [
    "The Toeplitz matrix has analytical eigenpairs!! Adding a potential along the diagonals allows us to reuse this problem for many types of physics cases.\n",
    "\n",
    "\n",
    "\n",
    "\n",
    "## Adding complexity, hydrogen-like atoms or other one-particle potentials\n",
    "We are first interested in the solution of the radial part of Schroedinger's equation for one electron. This equation reads"
   ]
  },
  {
   "cell_type": "markdown",
   "metadata": {},
   "source": [
    "$$\n",
    "-\\frac{\\hbar^2}{2 m} \\left ( \\frac{1}{r^2} \\frac{d}{dr} r^2\n",
    "  \\frac{d}{dr} - \\frac{l (l + 1)}{r^2} \\right )R(r) \n",
    "     + V(r) R(r) = E R(r).\n",
    "$$"
   ]
  },
  {
   "cell_type": "markdown",
   "metadata": {},
   "source": [
    "Suppose in our  case $V(r)$ is the harmonic oscillator potential $(1/2)kr^2$ with\n",
    "$k=m\\omega^2$ and $E$ is\n",
    "the energy of the harmonic oscillator in three dimensions.\n",
    "The oscillator frequency is $\\omega$ and the energies are"
   ]
  },
  {
   "cell_type": "markdown",
   "metadata": {},
   "source": [
    "$$\n",
    "E_{nl}=  \\hbar \\omega \\left(2n+l+\\frac{3}{2}\\right),\n",
    "$$"
   ]
  },
  {
   "cell_type": "markdown",
   "metadata": {},
   "source": [
    "with $n=0,1,2,\\dots$ and $l=0,1,2,\\dots$.\n",
    "\n",
    "\n",
    "\n",
    "\n",
    "## Radial Schroedinger equation\n",
    "Since we have made a transformation to spherical coordinates it means that \n",
    "$r\\in [0,\\infty)$.  \n",
    "The quantum number\n",
    "$l$ is the orbital momentum of the electron.   Then we substitute $R(r) = (1/r) u(r)$ and obtain"
   ]
  },
  {
   "cell_type": "markdown",
   "metadata": {},
   "source": [
    "$$\n",
    "-\\frac{\\hbar^2}{2 m} \\frac{d^2}{dr^2} u(r) \n",
    "       + \\left ( V(r) + \\frac{l (l + 1)}{r^2}\\frac{\\hbar^2}{2 m}\n",
    "                                    \\right ) u(r)  = E u(r) .\n",
    "$$"
   ]
  },
  {
   "cell_type": "markdown",
   "metadata": {},
   "source": [
    "The boundary conditions are $u(0)=0$ and $u(\\infty)=0$.\n",
    "\n",
    "\n",
    "\n",
    "\n",
    "## Scaling the equations\n",
    "We introduce a dimensionless variable $\\rho = (1/\\alpha) r$\n",
    "where $\\alpha$ is a constant with dimension length and get"
   ]
  },
  {
   "cell_type": "markdown",
   "metadata": {},
   "source": [
    "$$\n",
    "-\\frac{\\hbar^2}{2 m \\alpha^2} \\frac{d^2}{d\\rho^2} u(\\rho) \n",
    "       + \\left ( V(\\rho) + \\frac{l (l + 1)}{\\rho^2}\n",
    "         \\frac{\\hbar^2}{2 m\\alpha^2} \\right ) u(\\rho)  = E u(\\rho) .\n",
    "$$"
   ]
  },
  {
   "cell_type": "markdown",
   "metadata": {},
   "source": [
    "In project 2 we choose $l=0$.\n",
    "Inserting $V(\\rho) = (1/2) k \\alpha^2\\rho^2$ we end up with"
   ]
  },
  {
   "cell_type": "markdown",
   "metadata": {},
   "source": [
    "$$\n",
    "-\\frac{\\hbar^2}{2 m \\alpha^2} \\frac{d^2}{d\\rho^2} u(\\rho) \n",
    "       + \\frac{k}{2} \\alpha^2\\rho^2u(\\rho)  = E u(\\rho) .\n",
    "$$"
   ]
  },
  {
   "cell_type": "markdown",
   "metadata": {},
   "source": [
    "We multiply thereafter with $2m\\alpha^2/\\hbar^2$ on both sides and obtain"
   ]
  },
  {
   "cell_type": "markdown",
   "metadata": {},
   "source": [
    "$$\n",
    "-\\frac{d^2}{d\\rho^2} u(\\rho) \n",
    "       + \\frac{mk}{\\hbar^2} \\alpha^4\\rho^2u(\\rho)  = \\frac{2m\\alpha^2}{\\hbar^2}E u(\\rho) .\n",
    "$$"
   ]
  },
  {
   "cell_type": "markdown",
   "metadata": {},
   "source": [
    "## A natural length scale comes out automagically when scaling\n",
    "We have thus"
   ]
  },
  {
   "cell_type": "markdown",
   "metadata": {},
   "source": [
    "$$\n",
    "-\\frac{d^2}{d\\rho^2} u(\\rho) \n",
    "       + \\frac{mk}{\\hbar^2} \\alpha^4\\rho^2u(\\rho)  = \\frac{2m\\alpha^2}{\\hbar^2}E u(\\rho) .\n",
    "$$"
   ]
  },
  {
   "cell_type": "markdown",
   "metadata": {},
   "source": [
    "The constant $\\alpha$ can now be fixed\n",
    "so that"
   ]
  },
  {
   "cell_type": "markdown",
   "metadata": {},
   "source": [
    "$$\n",
    "\\frac{mk}{\\hbar^2} \\alpha^4 = 1,\n",
    "$$"
   ]
  },
  {
   "cell_type": "markdown",
   "metadata": {},
   "source": [
    "and it defines a natural length scale (like the Bohr radius does)"
   ]
  },
  {
   "cell_type": "markdown",
   "metadata": {},
   "source": [
    "$$\n",
    "\\alpha = \\left(\\frac{\\hbar^2}{mk}\\right)^{1/4}.\n",
    "$$"
   ]
  },
  {
   "cell_type": "markdown",
   "metadata": {},
   "source": [
    "Defining"
   ]
  },
  {
   "cell_type": "markdown",
   "metadata": {},
   "source": [
    "$$\n",
    "\\lambda = \\frac{2m\\alpha^2}{\\hbar^2}E,\n",
    "$$"
   ]
  },
  {
   "cell_type": "markdown",
   "metadata": {},
   "source": [
    "we can rewrite Schroedinger's equation as"
   ]
  },
  {
   "cell_type": "markdown",
   "metadata": {},
   "source": [
    "$$\n",
    "-\\frac{d^2}{d\\rho^2} u(\\rho) + \\rho^2u(\\rho)  = \\lambda u(\\rho) .\n",
    "$$"
   ]
  },
  {
   "cell_type": "markdown",
   "metadata": {},
   "source": [
    "This is similar to the equation for a buckling beam.\n",
    "In three dimensions \n",
    "the eigenvalues for $l=0$ are \n",
    "$\\lambda_0=1.5,\\lambda_1=3.5,\\lambda_2=5.5,\\dots .$\n",
    "\n",
    "\n",
    "\n",
    "\n",
    "\n",
    "## Discretizing\n",
    "Define first the diagonal matrix element"
   ]
  },
  {
   "cell_type": "markdown",
   "metadata": {},
   "source": [
    "$$\n",
    "d_i=\\frac{2}{h^2}+V_i,\n",
    "$$"
   ]
  },
  {
   "cell_type": "markdown",
   "metadata": {},
   "source": [
    "and the non-diagonal matrix element"
   ]
  },
  {
   "cell_type": "markdown",
   "metadata": {},
   "source": [
    "$$\n",
    "e_i=-\\frac{1}{h^2}.\n",
    "$$"
   ]
  },
  {
   "cell_type": "markdown",
   "metadata": {},
   "source": [
    "In this case the non-diagonal matrix elements are given by a mere constant. *All non-diagonal matrix elements are equal*.\n",
    "\n",
    "With these definitions the Schroedinger equation takes the following form"
   ]
  },
  {
   "cell_type": "markdown",
   "metadata": {},
   "source": [
    "$$\n",
    "d_iu_i+e_{i-1}u_{i-1}+e_{i+1}u_{i+1}  = \\lambda u_i,\n",
    "$$"
   ]
  },
  {
   "cell_type": "markdown",
   "metadata": {},
   "source": [
    "where $u_i$ is unknown. We can write the \n",
    "latter equation as a matrix eigenvalue problem"
   ]
  },
  {
   "cell_type": "markdown",
   "metadata": {},
   "source": [
    "<!-- Equation labels as ordinary links -->\n",
    "<div id=\"eq:sematrix\"></div>\n",
    "\n",
    "$$\n",
    "\\begin{equation}\n",
    "    \\left( \\begin{array}{ccccccc} d_1 & e_1 & 0   & 0    & \\dots  &0     & 0 \\\\\n",
    "                                e_1 & d_2 & e_2 & 0    & \\dots  &0     &0 \\\\\n",
    "                                0   & e_2 & d_3 & e_3  &0       &\\dots & 0\\\\\n",
    "                                \\dots  & \\dots & \\dots & \\dots  &\\dots      &\\dots & \\dots\\\\\n",
    "                                0   & \\dots & \\dots & \\dots  &\\dots       &d_{n_{\\mathrm{step}}-2} & e_{n_{\\mathrm{step}}-1}\\\\\n",
    "                                0   & \\dots & \\dots & \\dots  &\\dots       &e_{n_{\\mathrm{step}}-1} & d_{n_{\\mathrm{step}}-1}\n",
    "             \\end{array} \\right)      \\left( \\begin{array}{c} u_{1} \\\\\n",
    "                                                              u_{2} \\\\\n",
    "                                                              \\dots\\\\ \\dots\\\\ \\dots\\\\\n",
    "                                                              u_{n_{\\mathrm{step}}-1}\n",
    "             \\end{array} \\right)=\\lambda \\left( \\begin{array}{c} u_{1} \\\\\n",
    "                                                              u_{2} \\\\\n",
    "                                                              \\dots\\\\ \\dots\\\\ \\dots\\\\\n",
    "                                                              u_{n_{\\mathrm{step}}-1}\n",
    "             \\end{array} \\right) \n",
    "\\label{eq:sematrix} \\tag{1}\n",
    "\\end{equation}\n",
    "$$"
   ]
  },
  {
   "cell_type": "markdown",
   "metadata": {},
   "source": [
    "or if we wish to be more detailed, we can write the tridiagonal matrix as"
   ]
  },
  {
   "cell_type": "markdown",
   "metadata": {},
   "source": [
    "<!-- Equation labels as ordinary links -->\n",
    "<div id=\"eq:matrixse\"></div>\n",
    "\n",
    "$$\n",
    "\\begin{equation}\n",
    "    \\left( \\begin{array}{ccccccc} \\frac{2}{h^2}+V_1 & -\\frac{1}{h^2} & 0   & 0    & \\dots  &0     & 0 \\\\\n",
    "                                -\\frac{1}{h^2} & \\frac{2}{h^2}+V_2 & -\\frac{1}{h^2} & 0    & \\dots  &0     &0 \\\\\n",
    "                                0   & -\\frac{1}{h^2} & \\frac{2}{h^2}+V_3 & -\\frac{1}{h^2}  &0       &\\dots & 0\\\\\n",
    "                                \\dots  & \\dots & \\dots & \\dots  &\\dots      &\\dots & \\dots\\\\\n",
    "                                0   & \\dots & \\dots & \\dots  &\\dots       &\\frac{2}{h^2}+V_{n_{\\mathrm{step}}-2} & -\\frac{1}{h^2}\\\\\n",
    "                                0   & \\dots & \\dots & \\dots  &\\dots       &-\\frac{1}{h^2} & \\frac{2}{h^2}+V_{n_{\\mathrm{step}}-1}\n",
    "             \\end{array} \\right)  \n",
    "\\label{eq:matrixse} \\tag{2} \n",
    "\\end{equation}\n",
    "$$"
   ]
  },
  {
   "cell_type": "markdown",
   "metadata": {},
   "source": [
    "Recall that the solutions are known via the boundary conditions at\n",
    "$i=n_{\\mathrm{step}}$ and at the other end point, that is for  $\\rho_0$.\n",
    "The solution is zero in both cases.\n",
    "\n",
    "\n",
    "\n",
    "\n",
    "## The Python code\n",
    "The code sets up the Hamiltonian matrix by defining the minimun and maximum values of $r$ with a\n",
    "maximum value of integration points. It plots the \n",
    "eigenfunctions of the three lowest eigenstates."
   ]
  },
  {
   "cell_type": "code",
   "execution_count": 1,
   "metadata": {
    "collapsed": false
   },
   "outputs": [],
   "source": [
    "%matplotlib inline\n",
    "\n",
    "#Program which solves the one-particle Schrodinger equation \n",
    "#for a potential specified in function\n",
    "#potential(). \n",
    "\n",
    "from  matplotlib import pyplot as plt\n",
    "import numpy as np\n",
    "#Function for initialization of parameters\n",
    "def initialize():\n",
    "    RMin = 0.0\n",
    "    RMax = 10.0\n",
    "    lOrbital = 0\n",
    "    Dim = 400\n",
    "    return RMin, RMax, lOrbital, Dim\n",
    "# Different types of potentials\n",
    "def potential(r):\n",
    "    return 0.5*r*r\n",
    "    #  return 0.0\n",
    "    #  return -1.0/r\n",
    "    #if r >= 0.0 and r <= 10.0:\n",
    "    #    V = -0.05\n",
    "    #else:\n",
    "    #    V =0.0\n",
    "    #return V\n",
    "\n",
    "#Get the boundary, orbital momentum and number of integration points\n",
    "RMin, RMax, lOrbital, Dim = initialize()\n",
    "\n",
    "#Initialize constants\n",
    "Step    = RMax/(Dim+1)\n",
    "DiagConst = 1.0/ (Step*Step)\n",
    "NondiagConst =  -0.5 / (Step*Step)\n",
    "OrbitalFactor = 0.5*lOrbital * (lOrbital + 1.0)\n",
    "\n",
    "#Calculate array of potential values\n",
    "v = np.zeros(Dim)\n",
    "r = np.linspace(RMin,RMax,Dim)\n",
    "for i in xrange(Dim):\n",
    "    r[i] = RMin + (i+1) * Step;\n",
    "    v[i] = potential(r[i]) + OrbitalFactor/(r[i]*r[i]);\n",
    "\n",
    "#Setting up a tridiagonal matrix and finding eigenvectors and eigenvalues\n",
    "Matrix = np.zeros((Dim,Dim))\n",
    "Matrix[0,0] = DiagConst + v[0];\n",
    "Matrix[0,1] = NondiagConst;\n",
    "for i in xrange(1,Dim-1):\n",
    "    Matrix[i,i-1]  = NondiagConst;\n",
    "    Matrix[i,i]    = DiagConst + v[i];\n",
    "    Matrix[i,i+1]  = NondiagConst;\n",
    "Matrix[Dim-1,Dim-2] = NondiagConst;\n",
    "Matrix[Dim-1,Dim-1] = DiagConst + v[Dim-1];\n",
    "# diagonalize and obtain eigenvalues, not necessarily sorted\n",
    "EigValues, EigVectors = np.linalg.eig(Matrix)\n",
    "# sort eigenvectors and eigenvalues\n",
    "permute = EigValues.argsort()\n",
    "EigValues = EigValues[permute]\n",
    "EigVectors = EigVectors[:,permute]\n",
    "# now plot the results for the three lowest lying eigenstates\n",
    "for i in xrange(3):\n",
    "    print EigValues[i]\n",
    "FirstEigvector = EigVectors[:,0]\n",
    "SecondEigvector = EigVectors[:,1]\n",
    "ThirdEigvector = EigVectors[:,2]\n",
    "plt.plot(r, FirstEigvector**2 ,'b-',r, SecondEigvector**2 ,'g-',r, ThirdEigvector**2 ,'r-')\n",
    "plt.axis([0,4.6,0.0, 0.025])\n",
    "plt.xlabel(r'$r$')\n",
    "plt.ylabel(r'Radial probability $r^2|R(r)|^2$')\n",
    "plt.title(r'Radial probability distributions for three lowest-lying states')\n",
    "plt.savefig('eigenvector.pdf')\n",
    "plt.show()"
   ]
  },
  {
   "cell_type": "markdown",
   "metadata": {},
   "source": [
    "## The power of numerical methods\n",
    "The last example shows the potential of combining numerical algorithms with analytical results (or eventually symbolic calculations), allowing thereby students and teachers to\n",
    "\n",
    "* make abstraction and explore other physics cases easily where no analytical solutions are known\n",
    "\n",
    "* Validate and verify  their  algorithms. \n",
    "\n",
    "* Including concepts like unit testing, one has the possibility to test and validate several or all parts of the code.\n",
    "\n",
    "* Validation and verification are then included *naturally* and one can develop a better attitude to what is meant with an ethically sound scientific approach.\n",
    "\n",
    "* The above example allows the student to also test the mathematical error of the algorithm for the eigenvalue solver by changing the number of integration points. The students get trained from day one to think error analysis. \n",
    "\n",
    "* The algorithm can be tailored to any kind of one-particle problem used in quantum mechanics or eigenvalue problems\n",
    "\n",
    "* A simple rewrite allows for reuse in linear algebra problems for solution of say Poisson's equation in electromagnetism, or the diffusion equation in one dimension.\n",
    "\n",
    "* With an ipython notebook the students can keep exploring similar examples and turn them in as their own notebooks."
   ]
  }
 ],
 "metadata": {},
 "nbformat": 4,
 "nbformat_minor": 0
}

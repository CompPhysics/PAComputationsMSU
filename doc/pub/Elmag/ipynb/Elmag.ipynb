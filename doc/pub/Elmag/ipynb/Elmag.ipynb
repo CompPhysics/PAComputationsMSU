{
 "cells": [
  {
   "cell_type": "markdown",
   "metadata": {},
   "source": [
    "<!-- dom:TITLE: Partial differential equations and applications to Electromagnetism -->\n",
    "# Partial differential equations and applications to Electromagnetism\n",
    "<!-- dom:AUTHOR: Morten Hjorth-Jensen at Department of Physics, University of Oslo & Department of Physics and Astronomy and National Superconducting Cyclotron Laboratory, Michigan State University -->\n",
    "<!-- Author: --> **Morten Hjorth-Jensen**, Department of Physics, University of Oslo and Department of Physics and Astronomy and National Superconducting Cyclotron Laboratory, Michigan State University\n",
    "\n",
    "Date: **2017**\n",
    "\n",
    "## Famous PDEs\n",
    "In the Natural Sciences we often encounter problems with many variables\n",
    "constrained by boundary conditions and initial values. Many of these problems\n",
    "can be modelled as partial differential equations. One case which arises \n",
    "in many situations is the so-called wave equation whose one-dimensional form\n",
    "reads"
   ]
  },
  {
   "cell_type": "markdown",
   "metadata": {},
   "source": [
    "<!-- Equation labels as ordinary links -->\n",
    "<div id=\"eq:waveeqpde\"></div>\n",
    "\n",
    "$$\n",
    "\\begin{equation}\n",
    "\\label{eq:waveeqpde} \\tag{1}\n",
    " \\frac{\\partial^2 u}{\\partial x^2}=A\\frac{\\partial^2 u}{\\partial t^2},\n",
    "\\end{equation}\n",
    "$$"
   ]
  },
  {
   "cell_type": "markdown",
   "metadata": {},
   "source": [
    "where $A$ is a constant. The solution $u$ depends on both spatial and temporal variables, viz. $u=u(x,t)$.\n",
    "\n",
    "\n",
    "## Famous PDEs, two dimension\n",
    "\n",
    "In two dimension we have $u=u(x,y,t)$.  We will, unless otherwise stated, simply use $u$ in our discussion below.\n",
    "Familiar situations which this equation can model\n",
    "are waves on a string, pressure waves, waves on the surface of a fjord or a \n",
    "lake, electromagnetic waves and sound waves to mention a few. For e.g., electromagnetic\n",
    "waves we have the constant $A=c^2$, with $c$ the speed of light. It is rather\n",
    "straightforward to extend this equation to two or three dimension. In two dimensions\n",
    "we have"
   ]
  },
  {
   "cell_type": "markdown",
   "metadata": {},
   "source": [
    "$$\n",
    "\\frac{\\partial^2 u}{\\partial x^2}+\\frac{\\partial^2 u}{\\partial y^2}=A\\frac{\\partial^2 u}{\\partial t^2},\n",
    "$$"
   ]
  },
  {
   "cell_type": "markdown",
   "metadata": {},
   "source": [
    "## Famous PDEs, diffusion equation\n",
    "The diffusion equation whose one-dimensional version   reads"
   ]
  },
  {
   "cell_type": "markdown",
   "metadata": {},
   "source": [
    "<!-- Equation labels as ordinary links -->\n",
    "<div id=\"eq:diffusionpde\"></div>\n",
    "\n",
    "$$\n",
    "\\begin{equation}\n",
    "\\label{eq:diffusionpde} \\tag{2}\n",
    " \\frac{\\partial^2 u}{\\partial x^2}=A\\frac{\\partial u}{\\partial t},\n",
    "\\end{equation}\n",
    "$$"
   ]
  },
  {
   "cell_type": "markdown",
   "metadata": {},
   "source": [
    "and  $A$ is in this case called the diffusion constant. It can be used to model\n",
    "a wide selection of diffusion processes, from molecules to the diffusion of heat\n",
    "in a given material.\n",
    "\n",
    "## Famous PDEs, Laplace's equation\n",
    "Another familiar equation from electrostatics is Laplace's equation, which looks similar\n",
    "to the wave equation in Eq. ([eq:waveeqpde](#eq:waveeqpde)) except that we have set $A=0$"
   ]
  },
  {
   "cell_type": "markdown",
   "metadata": {},
   "source": [
    "<!-- Equation labels as ordinary links -->\n",
    "<div id=\"eq:laplacepde\"></div>\n",
    "\n",
    "$$\n",
    "\\begin{equation}\n",
    "\\label{eq:laplacepde} \\tag{3}\n",
    " \\frac{\\partial^2 u}{\\partial x^2}+\\frac{\\partial^2 u}{\\partial y^2}=0,\n",
    "\\end{equation}\n",
    "$$"
   ]
  },
  {
   "cell_type": "markdown",
   "metadata": {},
   "source": [
    "or if we have a finite electric charge represented by a charge density \n",
    "$\\rho(\\mathbf{x})$ we have the familiar Poisson equation"
   ]
  },
  {
   "cell_type": "markdown",
   "metadata": {},
   "source": [
    "<!-- Equation labels as ordinary links -->\n",
    "<div id=\"eq:poissonpde\"></div>\n",
    "\n",
    "$$\n",
    "\\begin{equation}\n",
    "\\label{eq:poissonpde} \\tag{4}\n",
    " \\frac{\\partial^2 u}{\\partial x^2}+\\frac{\\partial^2 u}{\\partial y^2}=-4\\pi \\rho(\\mathbf{x}).\n",
    "\\end{equation}\n",
    "$$"
   ]
  },
  {
   "cell_type": "markdown",
   "metadata": {},
   "source": [
    "## Famous PDEs, Helmholtz' equation\n",
    "Other famous partial differential equations  are the Helmholtz (or eigenvalue) equation, here specialized to two \n",
    "dimensions only"
   ]
  },
  {
   "cell_type": "markdown",
   "metadata": {},
   "source": [
    "<!-- Equation labels as ordinary links -->\n",
    "<div id=\"eq:helmholtz\"></div>\n",
    "\n",
    "$$\n",
    "\\begin{equation}\n",
    "\\label{eq:helmholtz} \\tag{5}\n",
    " -\\frac{\\partial^2 u}{\\partial x^2}-\\frac{\\partial^2 u}{\\partial y^2}=\\lambda u,\n",
    "\\end{equation}\n",
    "$$"
   ]
  },
  {
   "cell_type": "markdown",
   "metadata": {},
   "source": [
    "the linear transport equation  (in $2+1$ dimensions) familiar from Brownian motion as well"
   ]
  },
  {
   "cell_type": "markdown",
   "metadata": {},
   "source": [
    "<!-- Equation labels as ordinary links -->\n",
    "<div id=\"eq:transport\"></div>\n",
    "\n",
    "$$\n",
    "\\begin{equation}\n",
    "\\label{eq:transport} \\tag{6}\n",
    "\\frac{\\partial u}{\\partial t} +\\frac{\\partial u}{\\partial x}+\\frac{\\partial u}{\\partial y }=0,\n",
    "\\end{equation}\n",
    "$$"
   ]
  },
  {
   "cell_type": "markdown",
   "metadata": {},
   "source": [
    "## Famous PDEs, Schroedinger's equation in two dimensions\n",
    "Schroedinger's equation"
   ]
  },
  {
   "cell_type": "markdown",
   "metadata": {},
   "source": [
    "$$\n",
    "-\\frac{\\partial^2 u}{\\partial x^2}-\\frac{\\partial^2 u}{\\partial y^2}+f(x,y)u = \\imath\\frac{\\partial u}{\\partial t}.\n",
    "$$"
   ]
  },
  {
   "cell_type": "markdown",
   "metadata": {},
   "source": [
    "## Famous PDEs, Maxwell's equations\n",
    "Important systems of linear partial differential equations are the famous Maxwell equations"
   ]
  },
  {
   "cell_type": "markdown",
   "metadata": {},
   "source": [
    "$$\n",
    "\\frac{\\partial \\mathbf{E}}{\\partial t} =  \\mathrm{curl}\\mathbf{B},\n",
    "$$"
   ]
  },
  {
   "cell_type": "markdown",
   "metadata": {},
   "source": [
    "and"
   ]
  },
  {
   "cell_type": "markdown",
   "metadata": {},
   "source": [
    "$$\n",
    "-\\mathrm{curl} \\mathbf{E} =  \\mathbf{B}\n",
    "$$"
   ]
  },
  {
   "cell_type": "markdown",
   "metadata": {},
   "source": [
    "and"
   ]
  },
  {
   "cell_type": "markdown",
   "metadata": {},
   "source": [
    "$$\n",
    "\\mathrm{div} \\mathbf{E} =   \\mathrm{div}\\mathbf{B}  = 0.\n",
    "$$"
   ]
  },
  {
   "cell_type": "markdown",
   "metadata": {},
   "source": [
    "## Famous PDEs, Euler's equations\n",
    "Similarly, famous systems of non-linear partial differential equations are for example Euler's equations for \n",
    "incompressible, inviscid flow"
   ]
  },
  {
   "cell_type": "markdown",
   "metadata": {},
   "source": [
    "$$\n",
    "\\frac{\\partial \\mathbf{u}}{\\partial t} +\\mathbf{u}\\nabla\\mathbf{u}=  -Dp; \\hspace{1cm} \\mathrm{div} \\mathbf{u} =  0,\n",
    "$$"
   ]
  },
  {
   "cell_type": "markdown",
   "metadata": {},
   "source": [
    "with $p$ being the pressure and"
   ]
  },
  {
   "cell_type": "markdown",
   "metadata": {},
   "source": [
    "$$\n",
    "\\nabla = \\frac{\\partial}{\\partial x}e_x+\\frac{\\partial}{\\partial y}e_y,\n",
    "$$"
   ]
  },
  {
   "cell_type": "markdown",
   "metadata": {},
   "source": [
    "in the two dimensions. The unit vectors are $e_x$ and $e_y$. \n",
    "\n",
    "## Famous PDEs, the Navier-Stokes' equations\n",
    "Another example is the set of   \n",
    "Navier-Stokes equations for incompressible, viscous flow"
   ]
  },
  {
   "cell_type": "markdown",
   "metadata": {},
   "source": [
    "$$\n",
    "\\frac{\\partial \\mathbf{u}}{\\partial t} +\\mathbf{u}\\nabla\\mathbf{u}-\\Delta \\mathbf{u}=  -Dp; \\hspace{1cm} \\mathrm{div} \\mathbf{u} =  0.\n",
    "$$"
   ]
  },
  {
   "cell_type": "markdown",
   "metadata": {},
   "source": [
    "## Famous PDEs, general equation in two dimensions\n",
    "A general partial differential equation with two given dimensions\n",
    "reads"
   ]
  },
  {
   "cell_type": "markdown",
   "metadata": {},
   "source": [
    "$$\n",
    "A(x,y)\\frac{\\partial^2 u}{\\partial x^2}+B(x,y)\\frac{\\partial^2 u}{\\partial x\\partial y}\n",
    "+C(x,y)\\frac{\\partial^2 u}{\\partial y^2}=F(x,y,u,\\frac{\\partial u}{\\partial x}, \\frac{\\partial u}{\\partial y}),\n",
    "$$"
   ]
  },
  {
   "cell_type": "markdown",
   "metadata": {},
   "source": [
    "and if we set"
   ]
  },
  {
   "cell_type": "markdown",
   "metadata": {},
   "source": [
    "$$\n",
    "B=C=0,\n",
    "$$"
   ]
  },
  {
   "cell_type": "markdown",
   "metadata": {},
   "source": [
    "we recover the $1+1$-dimensional diffusion equation which is an example\n",
    "of a so-called parabolic partial differential equation.\n",
    "With"
   ]
  },
  {
   "cell_type": "markdown",
   "metadata": {},
   "source": [
    "$$\n",
    "B=0, \\hspace{1cm} AC < 0\n",
    "$$"
   ]
  },
  {
   "cell_type": "markdown",
   "metadata": {},
   "source": [
    "we get the $2+1$-dim wave equation which is an example of a so-called \n",
    "elliptic PDE, where more generally we have\n",
    "$B^2 > AC$.\n",
    "For $B^2 <  AC$ \n",
    "we obtain a so-called hyperbolic PDE, with the Laplace equation in \n",
    "Eq. ([eq:laplacepde](#eq:laplacepde)) as one of the \n",
    "classical examples.\n",
    "These equations can all be easily extended to non-linear partial differential\n",
    "equations and $3+1$ dimensional cases.\n",
    "\n",
    "\n",
    "\n",
    "## Laplace's and Poisson's Equations\n",
    "Laplace's equation reads"
   ]
  },
  {
   "cell_type": "markdown",
   "metadata": {},
   "source": [
    "$$\n",
    "\\nabla^2 u(\\mathbf{x})=u_{xx}+u_{yy}=0.\n",
    "$$"
   ]
  },
  {
   "cell_type": "markdown",
   "metadata": {},
   "source": [
    "with possible boundary conditions\n",
    "$u(x,y) = g(x,y) $ on the border $\\delta\\Omega$. There is no time-dependence.\n",
    "We seek a solution in the region $\\Omega$ and we choose a quadratic mesh\n",
    "with equally many steps in both directions.  We could choose the grid to be rectangular or following\n",
    "polar coordinates $r,\\theta$ as well. Here we choose equal steps lengths in the $x$ and\n",
    "the $y$ directions. We set"
   ]
  },
  {
   "cell_type": "markdown",
   "metadata": {},
   "source": [
    "$$\n",
    "h=\\Delta x = \\Delta y =  \\frac{L}{n+1},\n",
    "$$"
   ]
  },
  {
   "cell_type": "markdown",
   "metadata": {},
   "source": [
    "where $L$ is the length of the sides and we have $n+1$ points in both directions.\n",
    "\n",
    "## Laplace's and Poisson's Equations, discretized version\n",
    "The discretized version  reads"
   ]
  },
  {
   "cell_type": "markdown",
   "metadata": {},
   "source": [
    "$$\n",
    "u_{xx}\\approx \\frac{u(x+h,y)-2u(x,y)+u(x-h,y)}{h^2},\n",
    "$$"
   ]
  },
  {
   "cell_type": "markdown",
   "metadata": {},
   "source": [
    "and"
   ]
  },
  {
   "cell_type": "markdown",
   "metadata": {},
   "source": [
    "$$\n",
    "u_{yy}\\approx \\frac{u(x,y+h)-2u(x,y)+u(x,y-h)}{h^2},\n",
    "$$"
   ]
  },
  {
   "cell_type": "markdown",
   "metadata": {},
   "source": [
    "which we rewrite as"
   ]
  },
  {
   "cell_type": "markdown",
   "metadata": {},
   "source": [
    "$$\n",
    "u_{xx}\\approx \\frac{u_{i+1,j}-2u_{i,j}+u_{i-1,j}}{h^2},\n",
    "$$"
   ]
  },
  {
   "cell_type": "markdown",
   "metadata": {},
   "source": [
    "and"
   ]
  },
  {
   "cell_type": "markdown",
   "metadata": {},
   "source": [
    "$$\n",
    "u_{yy}\\approx \\frac{u_{i,j+1}-2u_{i,j}+u_{i,j-1}}{h^2}.\n",
    "$$"
   ]
  },
  {
   "cell_type": "markdown",
   "metadata": {},
   "source": [
    "## Laplace's and Poisson's Equations, final discretized version\n",
    "Inserting in Laplace's equation we obtain"
   ]
  },
  {
   "cell_type": "markdown",
   "metadata": {},
   "source": [
    "<!-- Equation labels as ordinary links -->\n",
    "<div id=\"eq:laplacescheme\"></div>\n",
    "\n",
    "$$\n",
    "\\begin{equation}\n",
    "\\label{eq:laplacescheme} \\tag{7}\n",
    "  u_{i,j}= \\frac{1}{4}\\left[u_{i,j+1}+u_{i,j-1}+u_{i+1,j}+u_{i-1,j}\\right].\n",
    "\\end{equation}\n",
    "$$"
   ]
  },
  {
   "cell_type": "markdown",
   "metadata": {},
   "source": [
    "This is our final numerical scheme for solving Laplace's equation.\n",
    "Poisson's equation adds only a minor complication \n",
    "to the above equation since in this case we have"
   ]
  },
  {
   "cell_type": "markdown",
   "metadata": {},
   "source": [
    "$$\n",
    "u_{xx}+u_{yy}=-\\rho(x,y),\n",
    "$$"
   ]
  },
  {
   "cell_type": "markdown",
   "metadata": {},
   "source": [
    "and we need only to add a discretized version of $\\rho(\\mathbf{x})$\n",
    "resulting in"
   ]
  },
  {
   "cell_type": "markdown",
   "metadata": {},
   "source": [
    "<!-- Equation labels as ordinary links -->\n",
    "<div id=\"eq:poissonscheme\"></div>\n",
    "\n",
    "$$\n",
    "\\begin{equation}\n",
    "\\label{eq:poissonscheme} \\tag{8}\n",
    "  u_{i,j}= \\frac{1}{4}\\left[u_{i,j+1}+u_{i,j-1}+u_{i+1,j}+u_{i-1,j}\\right]\n",
    "           +\\frac{h^2}{4}\\rho_{i,j}.\n",
    "\\end{equation}\n",
    "$$"
   ]
  },
  {
   "cell_type": "markdown",
   "metadata": {},
   "source": [
    "## Laplace's and Poisson's Equations, boundary conditions\n",
    "The boundary condtions read"
   ]
  },
  {
   "cell_type": "markdown",
   "metadata": {},
   "source": [
    "$$\n",
    "u_{i,0} = g_{i,0} \\hspace{0.5cm} 0\\le i \\le n+1,\n",
    "$$"
   ]
  },
  {
   "cell_type": "markdown",
   "metadata": {},
   "source": [
    "$$\n",
    "u_{i,L} = g_{i,0} \\hspace{0.5cm} 0\\le i \\le n+1,\n",
    "$$"
   ]
  },
  {
   "cell_type": "markdown",
   "metadata": {},
   "source": [
    "$$\n",
    "u_{0,j} = g_{0,j} \\hspace{0.5cm} 0\\le j \\le n+1,\n",
    "$$"
   ]
  },
  {
   "cell_type": "markdown",
   "metadata": {},
   "source": [
    "and"
   ]
  },
  {
   "cell_type": "markdown",
   "metadata": {},
   "source": [
    "$$\n",
    "u_{L,j} = g_{L,j} \\hspace{0.5cm} 0\\le j \\le n+1.\n",
    "$$"
   ]
  },
  {
   "cell_type": "markdown",
   "metadata": {},
   "source": [
    "With $n+1$ mesh points the equations for $u$ result in a system of $(n+1)^2$ linear equations in the $(n+1)^2$ unknown $u_{i,j}$.\n",
    "\n",
    "## Scheme for solving Laplace's (Poisson's) equation\n",
    "We rewrite Eq. ([eq:poissonscheme](#eq:poissonscheme))"
   ]
  },
  {
   "cell_type": "markdown",
   "metadata": {},
   "source": [
    "<!-- Equation labels as ordinary links -->\n",
    "<div id=\"eq:poissonrewritten\"></div>\n",
    "\n",
    "$$\n",
    "\\begin{equation} \n",
    "\\label{eq:poissonrewritten} \\tag{9}\n",
    "  4u_{i,j}= \\left[u_{i,j+1}+u_{i,j-1}+u_{i+1,j}+u_{i-1,j}\\right]\n",
    "           -h^2\\rho_{i,j}=\\Delta_{ij}-\\tilde{\\rho}_{ij},\n",
    "\\end{equation}\n",
    "$$"
   ]
  },
  {
   "cell_type": "markdown",
   "metadata": {},
   "source": [
    "where we have defined"
   ]
  },
  {
   "cell_type": "markdown",
   "metadata": {},
   "source": [
    "$$\n",
    "\\Delta_{ij}= \\left[u_{i,j+1}+u_{i,j-1}+u_{i+1,j}+u_{i-1,j}\\right],\n",
    "$$"
   ]
  },
  {
   "cell_type": "markdown",
   "metadata": {},
   "source": [
    "and"
   ]
  },
  {
   "cell_type": "markdown",
   "metadata": {},
   "source": [
    "$$\n",
    "\\tilde{\\rho}_{ij}=h^2\\rho_{i,j}.\n",
    "$$"
   ]
  },
  {
   "cell_type": "markdown",
   "metadata": {},
   "source": [
    "## Scheme for solving Laplace's (Poisson's) equation\n",
    "In order to illustrate how we can transform the last equations into a\n",
    "linear algebra problem of the type $\\mathbf{A}\\mathbf{x}=\\mathbf{w}$, with\n",
    "$\\mathbf{A}$ a matrix and $\\mathbf{x}$ and $\\mathbf{w}$ unknown and known\n",
    "vectors respectively, let us also for the sake of simplicity assume\n",
    "that the number of points $n=3$. We assume also that $u(x,y) = g(x,y)\n",
    "$ on the border $\\delta\\Omega$. \n",
    "\n",
    "\n",
    "The inner values of the function $u$  are then\n",
    "given by"
   ]
  },
  {
   "cell_type": "markdown",
   "metadata": {},
   "source": [
    "$$\n",
    "4u_{11} -u_{21} -u_{01} - u_{12}- u_{10}=-\\tilde{\\rho}_{11} \\nonumber\n",
    "$$"
   ]
  },
  {
   "cell_type": "markdown",
   "metadata": {},
   "source": [
    "$$\n",
    "4u_{12} - u_{02} - u_{22} - u_{13}- u_{11}=-\\tilde{\\rho}_{12} \\nonumber\n",
    "$$"
   ]
  },
  {
   "cell_type": "markdown",
   "metadata": {},
   "source": [
    "$$\n",
    "4u_{21} - u_{11} - u_{31} - u_{22}- u_{20}=-\\tilde{\\rho}_{21} \\nonumber\n",
    "$$"
   ]
  },
  {
   "cell_type": "markdown",
   "metadata": {},
   "source": [
    "$$\n",
    "4u_{22} - u_{12} - u_{32} - u_{23}- u_{21}=-\\tilde{\\rho}_{22}. \\nonumber\n",
    "$$"
   ]
  },
  {
   "cell_type": "markdown",
   "metadata": {},
   "source": [
    "## Scheme for solving Laplace's (Poisson's) equation\n",
    "If we  isolate on the left-hand side the unknown quantities $u_{11}$, $u_{12}$, $u_{21}$ and $u_{22}$, that is\n",
    "the inner points not constrained by the boundary conditions, we can\n",
    "rewrite the above equations as a matrix $\\mathbf{A}$ times an unknown vector $\\mathbf{x}$, that is"
   ]
  },
  {
   "cell_type": "markdown",
   "metadata": {},
   "source": [
    "$$\n",
    "Ax = b,\n",
    "$$"
   ]
  },
  {
   "cell_type": "markdown",
   "metadata": {},
   "source": [
    "or in more detail"
   ]
  },
  {
   "cell_type": "markdown",
   "metadata": {},
   "source": [
    "$$\n",
    "\\begin{bmatrix} 4&-1 &-1 &0 \\\\\n",
    "                           -1& 4 &0 &-1 \\\\\n",
    "                           -1& 0 &4 &-1 \\\\\n",
    "                           0& -1 &-1 &4 \\\\\n",
    "                      \\end{bmatrix}\\begin{bmatrix}\n",
    "                           u_{11}\\\\\n",
    "                           u_{12}\\\\\n",
    "                           u_{21} \\\\\n",
    "                           u_{22}  \\\\\n",
    "                      \\end{bmatrix}=\\begin{bmatrix}\n",
    "                           u_{01}+u_{10}-\\tilde{\\rho}_{11}\\\\\n",
    "                           u_{13}+u_{02}-\\tilde{\\rho}_{12}\\\\\n",
    "                           u_{31}+u_{20}-\\tilde{\\rho}_{21} \\\\\n",
    "                           u_{32}+u_{23}-\\tilde{\\rho}_{22}\\\\\n",
    "                      \\end{bmatrix}.\n",
    "$$"
   ]
  },
  {
   "cell_type": "markdown",
   "metadata": {},
   "source": [
    "## Scheme for solving Laplace's (Poisson's) equation\n",
    "The right hand side is constrained by the values at the boundary plus the known function $\\tilde{\\rho}$. \n",
    "For a two-dimensional equation it is easy to convince oneself that for larger sets of mesh points, \n",
    "we will not have more than five function values for every row of the above matrix. For a problem with $n+1$\n",
    "mesh points, our matrix $\\mathbf{A}\\in {\\mathbb{R}}^{(n+1)\\times (n+1)}$ leads to $(n-1)\\times (n-1)$ unknown function\n",
    "values $u_{ij}$. \n",
    "This means that, if we fix the endpoints for the two-dimensional case (with a square lattice) at $i(j)=0$ \n",
    "and $i(j)=n+1$, we have to solve the equations for $1 \\ge i(j) le n$. \n",
    "\n",
    "Since the matrix is rather sparse but is not on a tridiagonal form, elimination methods like the LU decomposition discussed, are not very practical. Rather, iterative schemes like Jacobi's method or the Gauss-Seidel are preferred. \n",
    "The above matrix is also always diagonally dominant, a necessary condition\n",
    "for these iterative solvers to converge. \n",
    "\n",
    "\n",
    "## Scheme for solving Laplace's (Poisson's) equation using Jacobi's iterative method\n",
    "In setting up for example Jacobi's method, it is useful to rewrite the matrix $\\mathbf{A}$ as"
   ]
  },
  {
   "cell_type": "markdown",
   "metadata": {},
   "source": [
    "$$\n",
    "\\mathbf{A}=\\mathbf{D}+\\mathbf{U}+\\mathbf{L},\n",
    "$$"
   ]
  },
  {
   "cell_type": "markdown",
   "metadata": {},
   "source": [
    "with $\\mathbf{D}$ being a diagonal matrix with $4$ as the only value, $\\mathbf{U}$ is an upper triangular matrix and $\\mathbf{L}$ \n",
    "a  lower triangular matrix. In our case we have"
   ]
  },
  {
   "cell_type": "markdown",
   "metadata": {},
   "source": [
    "$$\n",
    "\\mathbf{D}=\\begin{bmatrix}4&0 &0 &0 \\\\\n",
    "                           0& 4 &0 &0 \\\\\n",
    "                           0& 0 &4 &0 \\\\\n",
    "                           0& 0 &0 &4 \\\\\n",
    "                      \\end{bmatrix},\n",
    "$$"
   ]
  },
  {
   "cell_type": "markdown",
   "metadata": {},
   "source": [
    "and"
   ]
  },
  {
   "cell_type": "markdown",
   "metadata": {},
   "source": [
    "$$\n",
    "\\mathbf{L}=\\begin{bmatrix} 0&0 &0 &0 \\\\\n",
    "                           -1& 0 &0 &0 \\\\\n",
    "                           -1& 0 &0 &0 \\\\\n",
    "                           0& -1 &-1 &0 \\\\\n",
    "                      \\end{bmatrix} \\hspace{1cm} \\mathbf{U}= \\begin{bmatrix}\n",
    "                           0&-1 &-1 &0 \\\\\n",
    "                           0& 0 &0 &-1 \\\\\n",
    "                           0& 0 &0 &-1 \\\\\n",
    "                           0& 0 &0 &0 \\\\\n",
    "                      \\end{bmatrix}.\n",
    "$$"
   ]
  },
  {
   "cell_type": "markdown",
   "metadata": {},
   "source": [
    "## Scheme for solving Laplace's (Poisson's) equation, with Jacobi's method\n",
    "\n",
    "We assume now that we have an estimate for the unknown functions $u_{11}$, $u_{12}$, $u_{21}$ and $u_{22}$. We will call this\n",
    "the zeroth value and label it as\n",
    "$u^{(0)}_{11}$, $u^{(0)}_{12}$, $u^{(0)}_{21}$ and $u^{(0)}_{22}$. We can then set up an iterative scheme where the next solution\n",
    "is defined in terms of the previous one as"
   ]
  },
  {
   "cell_type": "markdown",
   "metadata": {},
   "source": [
    "$$\n",
    "u^{(1)}_{11} =\\frac{1}{4}(b_1-u^{(0)}_{12} -u^{(0)}_{21}) \\nonumber\n",
    "$$"
   ]
  },
  {
   "cell_type": "markdown",
   "metadata": {},
   "source": [
    "$$\n",
    "u^{(1)}_{12} =\\frac{1}{4}(b_2-u^{(0)}_{11}-u^{(0)}_{22}) \\nonumber\n",
    "$$"
   ]
  },
  {
   "cell_type": "markdown",
   "metadata": {},
   "source": [
    "$$\n",
    "u^{(1)}_{21} =\\frac{1}{4}(b_3-u^{(0)}_{11}-u^{(0)}_{22}) \\nonumber\n",
    "$$"
   ]
  },
  {
   "cell_type": "markdown",
   "metadata": {},
   "source": [
    "$$\n",
    "u^{(1)}_{22}=\\frac{1}{4}(b_4-u^{(0)}_{12}-u^{(0)}_{21}),  \\nonumber\n",
    "$$"
   ]
  },
  {
   "cell_type": "markdown",
   "metadata": {},
   "source": [
    "where we have defined the vector"
   ]
  },
  {
   "cell_type": "markdown",
   "metadata": {},
   "source": [
    "$$\n",
    "\\mathbf{b}= \\begin{bmatrix} u_{01}+u_{10}-\\tilde{\\rho}_{11}\\\\\n",
    "                           u_{13}+u_{02}-\\tilde{\\rho}_{12}\\\\\n",
    "                           u_{31}+u_{20}-\\tilde{\\rho}_{21} \\\\\n",
    "                           u_{32}+u_{23}-\\tilde{\\rho}_{22}\\\\\n",
    "                      \\end{bmatrix}.\n",
    "$$"
   ]
  },
  {
   "cell_type": "markdown",
   "metadata": {},
   "source": [
    "## Scheme for solving Laplace's (Poisson's) equation, final rewrite\n",
    "We can rewrite the equations in a more compact form in terms of the matrices $\\mathbf{D}$, $\\mathbf{L}$ and $\\mathbf{U}$ as,\n",
    "after $r+1$ iterations,"
   ]
  },
  {
   "cell_type": "markdown",
   "metadata": {},
   "source": [
    "<!-- Equation labels as ordinary links -->\n",
    "<div id=\"eq:jacobisolverpoisson\"></div>\n",
    "\n",
    "$$\n",
    "\\begin{equation} \\label{eq:jacobisolverpoisson} \\tag{10}\n",
    "\\mathbf{x}^{(r+1)}= \\mathbf{D}^{-1}\\left(\\mathbf{b} - (\\mathbf{L}+\\mathbf{U})\\mathbf{x}^{(r)}\\right),\n",
    "\\end{equation}\n",
    "$$"
   ]
  },
  {
   "cell_type": "markdown",
   "metadata": {},
   "source": [
    "where the unknown functions are now defined in terms of"
   ]
  },
  {
   "cell_type": "markdown",
   "metadata": {},
   "source": [
    "$$\n",
    "\\mathbf{x}= \\begin{bmatrix} u_{11}\\\\\n",
    "                           u_{12}\\\\\n",
    "                           u_{21}\\\\\n",
    "                           u_{22}\\\\\n",
    "                      \\end{bmatrix}.\n",
    "$$"
   ]
  },
  {
   "cell_type": "markdown",
   "metadata": {},
   "source": [
    "If we wish to implement Gauss-Seidel's algorithm,\n",
    "the set of equations to solve are then given by"
   ]
  },
  {
   "cell_type": "markdown",
   "metadata": {},
   "source": [
    "<!-- Equation labels as ordinary links -->\n",
    "<div id=\"eq:gausseidelsolverpoisson\"></div>\n",
    "\n",
    "$$\n",
    "\\begin{equation} \\label{eq:gausseidelsolverpoisson} \\tag{11}\n",
    "\\mathbf{x}^{(r+1)}= -(\\mathbf{D}+\\mathbf{L})^{-1}\\left(\\mathbf{b} -\\mathbf{U}\\mathbf{x}^{(r)}\\right),\n",
    "\\end{equation}\n",
    "$$"
   ]
  },
  {
   "cell_type": "markdown",
   "metadata": {},
   "source": [
    "or alternatively as"
   ]
  },
  {
   "cell_type": "markdown",
   "metadata": {},
   "source": [
    "$$\n",
    "\\mathbf{x}^{(r+1)}= \\mathbf{D}^{-1}\\left(\\mathbf{b} -\\mathbf{L}\\mathbf{x}^{(r+1)}-\\mathbf{U}\\mathbf{x}^{(r)}\\right).\n",
    "$$"
   ]
  },
  {
   "cell_type": "markdown",
   "metadata": {},
   "source": [
    "## Jacobi Algorithm for solving Laplace's Equation\n",
    "It is thus fairly straightforward to extend this equation to the \n",
    "three-dimensional case. Whether we solve Eq. ([eq:laplacescheme](#eq:laplacescheme))\n",
    "or Eq. ([eq:poissonscheme](#eq:poissonscheme)), the solution strategy remains the same.\n",
    "We know the values of $u$ at $i=0$ or $i=n+1$  and at $j=0$ or\n",
    "$j=n+1$ but we cannot start at one of the boundaries and work our way into and\n",
    "across the system since Eq. ([eq:laplacescheme](#eq:laplacescheme)) requires the knowledge\n",
    "of $u$ at all of the neighbouring points in order to calculate $u$ at any\n",
    "given point.\n",
    "\n",
    "## Jacobi Algorithm for solving Laplace's Equation\n",
    "The way we solve these equations is based on an iterative scheme based on the Jacobi method or\n",
    "the Gauss-Seidel method or the relaxation methods.\n",
    "\n",
    "Implementing Jacobi's method is rather simple. We start with an initial guess\n",
    "for $u_{i,j}^{(0)}$ where all values are known. To obtain a new solution we\n",
    "solve Eq. ([eq:laplacescheme](#eq:laplacescheme)) or Eq. ([eq:poissonscheme](#eq:poissonscheme))\n",
    "in order to obtain a new solution $u_{i,j}^{(1)}$. \n",
    "Most likely this solution will not be a solution to \n",
    "Eq. ([eq:laplacescheme](#eq:laplacescheme)). This solution is in turn\n",
    "used to obtain a new and improved $u_{i,j}^{(2)}$. We continue this process\n",
    "till we obtain a result which satisfies some specific convergence criterion.\n",
    "\n",
    "\n",
    "## Jacobi Algorithm for solving Laplace's Equation, the algorithm\n",
    "Summarized, this algorithm reads\n",
    "\n",
    " 1. Make an initial guess for $u_{i,j}$ at all interior points $(i,j)$ for all $i=1:n$ and $j=1:n$\n",
    "\n",
    " 2. Use Eq. ([eq:laplacescheme](#eq:laplacescheme)) to compute $u^{m}$ at all interior points $(i,j)$.  The index $m$ stands for  iteration number $m$.\n",
    "\n",
    " 3. Stop if prescribed convergence threshold is reached, otherwise continue to the next step.\n",
    "\n",
    " 4. Update the new value of $u$ for the given iteration\n",
    "\n",
    " 5. Go to step 2\n",
    "\n",
    "## Jacobi Algorithm for solving Laplace's Equation, simple example\n",
    "A simple example may help in understanding this method.\n",
    "We consider a condensator with parallel \n",
    "plates separated at a distance $L$ resulting in for example the voltage differences\n",
    "$u(x,0)=200sin(2\\pi x/L)$ and\n",
    "$u(x,1)=-200sin(2\\pi x/L)$. These are our boundary conditions and we ask \n",
    "what is the voltage $u$ between the plates?\n",
    "\n",
    "\n",
    "## Jacobi Algorithm for solving Laplace's Equation, to observe\n",
    "The important part of the algorithm is applied in the function which\n",
    "sets up the two-dimensional Laplace equation. There we have a while\n",
    "statement which tests the difference between the temporary vector and\n",
    "the solution $u_{i,j}$. Moreover, we have fixed the number of\n",
    "iterations to a given maximum. We need also to provide a convergence\n",
    "tolerance. In the above program example we have fixed this to be\n",
    "$0.00001$. Depending on the type of applications one may have to\n",
    "change both the number of maximum iterations and the tolerance.\n",
    "\n",
    "## Python code for solving the two-dimensional Laplace equation\n",
    "The following Python code sets up and solves the Laplace equation in two dimensions."
   ]
  },
  {
   "cell_type": "code",
   "execution_count": 1,
   "metadata": {
    "collapsed": false
   },
   "outputs": [],
   "source": [
    "# Solves the 2d Laplace equation using relaxation method\n",
    "\n",
    "import numpy, math\n",
    "\n",
    "def relax(A, maxsteps, convergence):\n",
    "    \"\"\"\n",
    "    Relaxes the matrix A until the sum of the absolute differences\n",
    "    between the previous step and the next step (divided by the number of\n",
    "    elements in A) is below convergence, or maxsteps is reached.\n",
    "\n",
    "    Input:\n",
    "     - A: matrix to relax\n",
    "     - maxsteps, convergence: Convergence criterions\n",
    "\n",
    "    Output:\n",
    "     - A is relaxed when this method returns\n",
    "    \"\"\"\n",
    "\n",
    "    iterations = 0\n",
    "    diff = convergence +1\n",
    "\n",
    "    Nx = A.shape[1]\n",
    "    Ny = A.shape[0]\n",
    "    \n",
    "    while iterations < maxsteps and diff > convergence:\n",
    "        #Loop over all *INNER* points and relax\n",
    "        Atemp = A.copy()\n",
    "        diff = 0.0\n",
    "        \n",
    "        for y in xrange(1,Ny-1):\n",
    "            for x in xrange(1,Ny-1):\n",
    "                A[y,x] = 0.25*(Atemp[y,x+1]+Atemp[y,x-1]+Atemp[y+1,x]+Atemp[y-1,x])\n",
    "                diff  += math.fabs(A[y,x] - Atemp[y,x])\n",
    "\n",
    "        diff /=(Nx*Ny)\n",
    "        iterations += 1\n",
    "        print \"Iteration #\", iterations, \", diff =\", diff;\n",
    "\n",
    "\n",
    "def boundary(A,x,y):\n",
    "    \"\"\"\n",
    "    Set up boundary conditions\n",
    "\n",
    "    Input:\n",
    "     - A: Matrix to set boundaries on\n",
    "     - x: Array where x[i] = hx*i, x[last_element] = Lx\n",
    "     - y: Eqivalent array for y\n",
    "\n",
    "    Output:\n",
    "     - A is initialized in-place (when this method returns)\n",
    "    \"\"\"\n",
    "\n",
    "    #Boundaries implemented (condensator with plates at y={0,Lx}, DeltaV = 200):\n",
    "    # A(x,0)  =  100*sin(2*pi*x/Lx)\n",
    "    # A(x,Ly) = -100*sin(2*pi*x/Lx)\n",
    "    # A(0,y)  = 0\n",
    "    # A(Lx,y) = 0\n",
    "\n",
    "    Nx = A.shape[1]\n",
    "    Ny = A.shape[0]\n",
    "    Lx = x[Nx-1] #They *SHOULD* have same sizes!\n",
    "    Ly = x[Nx-1]\n",
    "\n",
    "\n",
    "    A[:,0]    =   100*numpy.sin(math.pi*x/Lx)\n",
    "    A[:,Nx-1] = - 100*numpy.sin(math.pi*x/Lx)\n",
    "    A[0,:]    = 0.0\n",
    "    A[Ny-1,:] = 0.0\n",
    "\n",
    "\n",
    "#Main program\n",
    "\n",
    "import sys\n",
    "\n",
    "# Input parameters\n",
    "Nx      = 100\n",
    "Ny      = 100\n",
    "maxiter = 1000\n",
    "\n",
    "x = numpy.linspace(0,1,num=Nx+2) #Also include edges\n",
    "y = numpy.linspace(0,1,num=Ny+2)\n",
    "A = numpy.zeros((Nx+2,Ny+2))\n",
    "\n",
    "boundary(A,x,y)\n",
    "#Remember: as solution \"creeps\" in from the edges,\n",
    "#number of steps MUST AT LEAST be equal to\n",
    "#number of inner meshpoints/2 (unless you have a better\n",
    "#estimate for the solution than zeros() )\n",
    "relax(A,maxiter,0.00001)\n",
    "\n",
    "# To do: add visualization"
   ]
  },
  {
   "cell_type": "markdown",
   "metadata": {},
   "source": [
    "## Jacobi's algorithm extended to the diffusion equation in two dimensions\n",
    "\n",
    "Let us know implement the implicit scheme and show how we can extend the previous algorithm for solving\n",
    "Laplace's or Poisson's equations to the diffusion equation as well. As the reader will notice, this simply implies a\n",
    "slight redefinition of the vector $\\mathbf{b}$ defined in Eq. ([eq:jacobisolverpoisson](#eq:jacobisolverpoisson)).\n",
    "\n",
    "To see this, let us first set up the diffusion in two spatial dimensions, with boundary and initial conditions.\n",
    "The $2+1$-dimensional diffusion equation (with dimensionless variables) reads for a function\n",
    "$u=u(x,y,t)$"
   ]
  },
  {
   "cell_type": "markdown",
   "metadata": {},
   "source": [
    "$$\n",
    "\\frac{\\partial u}{\\partial t}= D\\left(\\frac{\\partial^2 u}{\\partial x^2}+\\frac{\\partial^2 u}{\\partial y^2}\\right).\n",
    "$$"
   ]
  },
  {
   "cell_type": "markdown",
   "metadata": {},
   "source": [
    "## Jacobi's algorithm extended to the diffusion equation in two dimensions\n",
    "We assume that we have a square lattice of length $L$ with equally\n",
    "many mesh points in the $x$ and $y$ directions.  Setting the diffusion\n",
    "constant $D=1$ and using the shorthand notation\n",
    "$u_{xx}={\\partial^2 u}/{\\partial x^2}$ etc for the second\n",
    "derivatives and $u_t={\\partial u}/{\\partial t}$ for the time\n",
    "derivative, we have, with a given set of boundary and initial\n",
    "conditions,"
   ]
  },
  {
   "cell_type": "markdown",
   "metadata": {},
   "source": [
    "$$\n",
    "\\begin{array}{cc}u_t= u_{xx}+u_{yy}& x, y\\in(0,L), t>0 \\\\\n",
    "                         u(x,y,0) = g(x,y)& x, y\\in (0,L) \\\\\n",
    "                         u(0,y,t)=u(L,y,t)=u(x,0,t)=u(x,L,t)0 & t > 0\\\\\n",
    "                       \\end{array}\n",
    "$$"
   ]
  },
  {
   "cell_type": "markdown",
   "metadata": {},
   "source": [
    "## Jacobi's algorithm extended to the diffusion equation in two dimensions, discretizing\n",
    "We discretize again position and time, and use the following approximation for the second derivatives"
   ]
  },
  {
   "cell_type": "markdown",
   "metadata": {},
   "source": [
    "$$\n",
    "u_{xx}\\approx \\frac{u(x+h,y,t)-2u(x,y,t)+u(x-h,y,t)}{h^2},\n",
    "$$"
   ]
  },
  {
   "cell_type": "markdown",
   "metadata": {},
   "source": [
    "which we rewrite as, in its discretized version,"
   ]
  },
  {
   "cell_type": "markdown",
   "metadata": {},
   "source": [
    "$$\n",
    "u_{xx}\\approx \\frac{u^{l}_{i+1,j}-2u^{l}_{i,j}+u^{l}_{i-1,j}}{h^2},\n",
    "$$"
   ]
  },
  {
   "cell_type": "markdown",
   "metadata": {},
   "source": [
    "where $x_i=x_0+ih$, $y_j=y_0+jh$ and $t_l=t_0+l\\Delta t$, with $h=L/(n+1)$ and $\\Delta t$ the time step. \n",
    "\n",
    "## Jacobi's algorithm extended to the diffusion equation in two dimensions, the second derivative\n",
    "The second derivative with respect to $y$ reads"
   ]
  },
  {
   "cell_type": "markdown",
   "metadata": {},
   "source": [
    "$$\n",
    "u_{yy}\\approx \\frac{u^{l}_{i,j+1}-2u^{l}_{i,j}+u^{l}_{i,j-1}}{h^2}.\n",
    "$$"
   ]
  },
  {
   "cell_type": "markdown",
   "metadata": {},
   "source": [
    "We use now the so-called backward going Euler formula for the first derivative in time. In its discretized form we have"
   ]
  },
  {
   "cell_type": "markdown",
   "metadata": {},
   "source": [
    "$$\n",
    "u_{t}\\approx \\frac{u^{l}_{i,j}-u^{l-1}_{i,j}}{\\Delta t},\n",
    "$$"
   ]
  },
  {
   "cell_type": "markdown",
   "metadata": {},
   "source": [
    "resulting in"
   ]
  },
  {
   "cell_type": "markdown",
   "metadata": {},
   "source": [
    "$$\n",
    "u^{l}_{i,j}+4\\alpha u^{l}_{i,j}- \\alpha\\left[u^{l}_{i+1,j}+u^{l}_{i-1,j}+u^{l}_{i,j+1}+u^{l}_{i,j-1}\\right] = u^{l-1}_{i,j},\n",
    "$$"
   ]
  },
  {
   "cell_type": "markdown",
   "metadata": {},
   "source": [
    "where the right hand side is the only known term, since starting with $t=t_0$, the right hand side is entirely \n",
    "determined by the boundary and initial conditions.  We have $\\alpha=\\Delta t/h^2$. \n",
    "\n",
    "\n",
    "\n",
    "## Jacobi's algorithm extended to the diffusion equation in two dimensions\n",
    "For future time steps, only the boundary values are determined \n",
    "and we need to solve the equations for the interior part in an iterative way similar to what was done for Laplace's or Poisson's equations.\n",
    "To see this, we rewrite the previous equation as"
   ]
  },
  {
   "cell_type": "markdown",
   "metadata": {},
   "source": [
    "$$\n",
    "u^{l}_{i,j}= \\frac{1}{1+4\\alpha}\\left[\\alpha(u^{l}_{i+1,j}+u^{l}_{i-1,j}+u^{l}_{i,j+1}+u^{l}_{i,j-1})+u^{l-1}_{i,j}\\right],\n",
    "$$"
   ]
  },
  {
   "cell_type": "markdown",
   "metadata": {},
   "source": [
    "or in a more compact form as"
   ]
  },
  {
   "cell_type": "markdown",
   "metadata": {},
   "source": [
    "<!-- Equation labels as ordinary links -->\n",
    "<div id=\"eq:implicitdiff2dim\"></div>\n",
    "\n",
    "$$\n",
    "\\begin{equation}\n",
    "\\label{eq:implicitdiff2dim} \\tag{12}\n",
    "u^{l}_{i,j}= \\frac{1}{1+4\\alpha}\\left[\\alpha\\Delta^l_{ij}+u^{l-1}_{i,j}\\right],\n",
    "\\end{equation}\n",
    "$$"
   ]
  },
  {
   "cell_type": "markdown",
   "metadata": {},
   "source": [
    "with $\\Delta^l_{ij}= \\left[u^l_{i,j+1}+u^l_{i,j-1}+u^l_{i+1,j}+u^l_{i-1,j}\\right]$.\n",
    "This equation has essentially the same structure as Eq. ([eq:poissonrewritten](#eq:poissonrewritten)), except that \n",
    "the function $\\rho_{ij}$ is replaced by the solution at a previous time step $l-1$. Furthermore, the diagonal matrix elements\n",
    "are now given by $1+4\\alpha$, while the non-zero non-diagonal matrix elements equal $\\alpha$. This matrix is also positive definite, meaning in turn that\n",
    "iterative schemes like the Jacobi or the Gauss-Seidel methods will converge to the desired solution after a given number of iterations. \n",
    "\n",
    "\n",
    "\n",
    "## Wave Equation in two Dimensions\n",
    "\n",
    "The $1+1$-dimensional wave equation reads"
   ]
  },
  {
   "cell_type": "markdown",
   "metadata": {},
   "source": [
    "$$\n",
    "\\frac{\\partial^2 u}{\\partial x^2}=\\frac{\\partial^2 u}{\\partial t^2},\n",
    "$$"
   ]
  },
  {
   "cell_type": "markdown",
   "metadata": {},
   "source": [
    "with $u=u(x,t)$ and we have assumed that we operate with \n",
    "dimensionless variables. Possible boundary and initial conditions\n",
    "with $L=1$  are"
   ]
  },
  {
   "cell_type": "markdown",
   "metadata": {},
   "source": [
    "$$\n",
    "\\begin{array}{cc} u_{xx} = u_{tt}& x\\in(0,1), t>0 \\\\\n",
    "                         u(x,0) = g(x)& x\\in (0,1) \\\\\n",
    "                         u(0,t)=u(1,t)=0 & t > 0\\\\\n",
    "                         \\partial u/\\partial t|_{t=0}=0 & x\\in (0,1)\\\\\n",
    "                       \\end{array} .\n",
    "$$"
   ]
  },
  {
   "cell_type": "markdown",
   "metadata": {},
   "source": [
    "## Wave Equation in two Dimensions, discretizing\n",
    "We discretize again time and position,"
   ]
  },
  {
   "cell_type": "markdown",
   "metadata": {},
   "source": [
    "$$\n",
    "u_{xx}\\approx \\frac{u(x+\\Delta x,t)-2u(x,t)+u(x-\\Delta x,t)}{\\Delta x^2},\n",
    "$$"
   ]
  },
  {
   "cell_type": "markdown",
   "metadata": {},
   "source": [
    "and"
   ]
  },
  {
   "cell_type": "markdown",
   "metadata": {},
   "source": [
    "$$\n",
    "u_{tt}\\approx \\frac{u(x,t+\\Delta t)-2u(x,t)+u(x,t-\\Delta t)}{\\Delta t^2},\n",
    "$$"
   ]
  },
  {
   "cell_type": "markdown",
   "metadata": {},
   "source": [
    "which we rewrite as"
   ]
  },
  {
   "cell_type": "markdown",
   "metadata": {},
   "source": [
    "$$\n",
    "u_{xx}\\approx \\frac{u_{i+1,j}-2u_{i,j}+u_{i-1,j}}{\\Delta x^2},\n",
    "$$"
   ]
  },
  {
   "cell_type": "markdown",
   "metadata": {},
   "source": [
    "and"
   ]
  },
  {
   "cell_type": "markdown",
   "metadata": {},
   "source": [
    "$$\n",
    "u_{tt}\\approx \\frac{u_{i,j+1}-2u_{i,j}+u_{i,j-1}}{\\Delta t^2},\n",
    "$$"
   ]
  },
  {
   "cell_type": "markdown",
   "metadata": {},
   "source": [
    "resulting in"
   ]
  },
  {
   "cell_type": "markdown",
   "metadata": {},
   "source": [
    "<!-- Equation labels as ordinary links -->\n",
    "<div id=\"eq:wavescheme\"></div>\n",
    "\n",
    "$$\n",
    "\\begin{equation}\n",
    "\\label{eq:wavescheme} \\tag{13}\n",
    "u_{i,j+1}=2u_{i,j}-u_{i,j-1}+\\frac{\\Delta t^2}{\\Delta x^2}\\left(u_{i+1,j}-2u_{i,j}+u_{i-1,j}\\right).\n",
    "\\end{equation}\n",
    "$$"
   ]
  },
  {
   "cell_type": "markdown",
   "metadata": {},
   "source": [
    "## Wave Equation in two Dimensions\n",
    "If we assume that all values at times $t=j$ and $t=j-1$ are known, the only unknown variable is $u_{i,j+1}$ and the last equation yields thus an explicit\n",
    "scheme for updating this quantity. We have thus an explicit finite difference\n",
    "scheme for computing the wave function $u$. The only additional complication\n",
    "in our case is the initial condition given by the first derivative in time,\n",
    "namely $\\partial u/\\partial t|_{t=0}=0$. \n",
    "The discretized version of this first derivative is given by"
   ]
  },
  {
   "cell_type": "markdown",
   "metadata": {},
   "source": [
    "$$\n",
    "u_t\\approx \\frac{u(x_i,t_j+\\Delta t)-u(x_i,t_j-\\Delta t)}{2\\Delta t},\n",
    "$$"
   ]
  },
  {
   "cell_type": "markdown",
   "metadata": {},
   "source": [
    "and at $t=0$ it reduces to"
   ]
  },
  {
   "cell_type": "markdown",
   "metadata": {},
   "source": [
    "$$\n",
    "u_t\\approx \\frac{u_{i,+1}-u_{i,-1}}{2\\Delta t}=0,\n",
    "$$"
   ]
  },
  {
   "cell_type": "markdown",
   "metadata": {},
   "source": [
    "implying that $u_{i,+1}=u_{i,-1}$. \n",
    "\n",
    "## Wave Equation in two Dimensions\n",
    "If we insert this condition in Eq. ([eq:wavescheme](#eq:wavescheme)) we arrive at a\n",
    "special formula for the first time step"
   ]
  },
  {
   "cell_type": "markdown",
   "metadata": {},
   "source": [
    "<!-- Equation labels as ordinary links -->\n",
    "<div id=\"eq:firstwavescheme\"></div>\n",
    "\n",
    "$$\n",
    "\\begin{equation}\n",
    "\\label{eq:firstwavescheme} \\tag{14}\n",
    "u_{i,1}=u_{i,0}+\\frac{\\Delta t^2}{2\\Delta x^2}\\left(u_{i+1,0}-2u_{i,0}+u_{i-1,0}\\right).\n",
    "\\end{equation}\n",
    "$$"
   ]
  },
  {
   "cell_type": "markdown",
   "metadata": {},
   "source": [
    "We need seemingly two different equations, one for the first time step\n",
    "given by Eq. ([eq:firstwavescheme](#eq:firstwavescheme)) and one for all other time-steps\n",
    "given by Eq. ([eq:wavescheme](#eq:wavescheme)). However, it suffices to use\n",
    "Eq. ([eq:wavescheme](#eq:wavescheme)) for all times as long as we \n",
    "provide $u(i,-1)$ using"
   ]
  },
  {
   "cell_type": "markdown",
   "metadata": {},
   "source": [
    "$$\n",
    "u_{i,-1}=u_{i,0}+\\frac{\\Delta t^2}{2\\Delta x^2}\\left(u_{i+1,0}-2u_{i,0}+u_{i-1,0}\\right),\n",
    "$$"
   ]
  },
  {
   "cell_type": "markdown",
   "metadata": {},
   "source": [
    "in our setup of the initial conditions.\n",
    "\n",
    "## Wave Equation in two Dimensions\n",
    "The situation is rather similar for the $2+1$-dimensional case, \n",
    "except that we now need to discretize the spatial $y$-coordinate as well.\n",
    "Our equations will now depend on three variables whose discretized versions\n",
    "are now"
   ]
  },
  {
   "cell_type": "markdown",
   "metadata": {},
   "source": [
    "$$\n",
    "\\begin{array}{cc} t_l=l\\Delta t& l \\ge 0 \\\\\n",
    "                          x_i=i\\Delta x& 0 \\le i \\le n_x\\\\\n",
    "                          y_j=j\\Delta y& 0 \\le j \\le n_y\\end{array} ,\n",
    "$$"
   ]
  },
  {
   "cell_type": "markdown",
   "metadata": {},
   "source": [
    "and we will let $\\Delta x=\\Delta y = h$ and $n_x=n_y$ for the sake of \n",
    "simplicity.\n",
    "The equation with initial and boundary conditions reads now"
   ]
  },
  {
   "cell_type": "markdown",
   "metadata": {},
   "source": [
    "$$\n",
    "\\begin{array}{cc} u_{xx}+u_{yy} = u_{tt}& x,y\\in(0,1), t>0 \\\\\n",
    "                         u(x,y,0) = g(x,y)& x,y\\in (0,1) \\\\\n",
    "                         u(0,0,t)=u(1,1,t)=0 & t > 0\\\\\n",
    "                         \\partial u/\\partial t|_{t=0}=0 & x,y\\in (0,1)\\\\\n",
    "                       \\end{array}.\n",
    "$$"
   ]
  },
  {
   "cell_type": "markdown",
   "metadata": {},
   "source": [
    "## Wave Equation in two Dimensions\n",
    "We have now the following discretized partial derivatives"
   ]
  },
  {
   "cell_type": "markdown",
   "metadata": {},
   "source": [
    "$$\n",
    "u_{xx}\\approx \\frac{u_{i+1,j}^l-2u_{i,j}^l+u_{i-1,j}^l}{h^2},\n",
    "$$"
   ]
  },
  {
   "cell_type": "markdown",
   "metadata": {},
   "source": [
    "and"
   ]
  },
  {
   "cell_type": "markdown",
   "metadata": {},
   "source": [
    "$$\n",
    "u_{yy}\\approx \\frac{u_{i,j+1}^l-2u_{i,j}^l+u_{i,j-1}^l}{h^2},\n",
    "$$"
   ]
  },
  {
   "cell_type": "markdown",
   "metadata": {},
   "source": [
    "and"
   ]
  },
  {
   "cell_type": "markdown",
   "metadata": {},
   "source": [
    "$$\n",
    "u_{tt}\\approx \\frac{u_{i,j}^{l+1}-2u_{i,j}^{l}+u_{i,j}^{l-1}}{\\Delta t^2},\n",
    "$$"
   ]
  },
  {
   "cell_type": "markdown",
   "metadata": {},
   "source": [
    "which we merge into the discretized $2+1$-dimensional wave equation\n",
    "as"
   ]
  },
  {
   "cell_type": "markdown",
   "metadata": {},
   "source": [
    "<!-- Equation labels as ordinary links -->\n",
    "<div id=\"eq:21wavescheme\"></div>\n",
    "\n",
    "$$\n",
    "\\begin{equation}\n",
    "\\label{eq:21wavescheme} \\tag{15}\n",
    "u_{i,j}^{l+1}\n",
    "=2u_{i,j}^{l}-u_{i,j}^{l-1}+\\frac{\\Delta t^2}{h^2}\\left(u_{i+1,j}^l-4u_{i,j}^l+u_{i-1,j}^l+u_{i,j+1}^l+u_{i,j-1}^l\\right),\n",
    "\\end{equation}\n",
    "$$"
   ]
  },
  {
   "cell_type": "markdown",
   "metadata": {},
   "source": [
    "where again we have an explicit scheme with $u_{i,j}^{l+1}$ as the only\n",
    "unknown quantity. \n",
    "\n",
    "## Wave Equation in two Dimensions\n",
    "It is easy to account for different step lengths for $x$ and $y$.\n",
    "The partial derivative is treated in much the same way\n",
    "as for the one-dimensional case, except that we now have an additional\n",
    "index due to the extra spatial dimension, viz., we need to compute \n",
    "$u_{i,j}^{-1}$ through"
   ]
  },
  {
   "cell_type": "markdown",
   "metadata": {},
   "source": [
    "$$\n",
    "u_{i,j}^{-1}=u_{i,j}^0+\\frac{\\Delta t}{2h^2}\\left(u_{i+1,j}^0-4u_{i,j}^0+u_{i-1,j}^0+u_{i,j+1}^0+u_{i,j-1}^0\\right),\n",
    "$$"
   ]
  },
  {
   "cell_type": "markdown",
   "metadata": {},
   "source": [
    "in our setup of the initial conditions.\n",
    "\n",
    "\n",
    "## Analytical  Solution for the two-dimensional wave equation\n",
    "We develop here the closed-form solution for the $2+1$ dimensional wave equation with the following boundary and initial conditions"
   ]
  },
  {
   "cell_type": "markdown",
   "metadata": {},
   "source": [
    "$$\n",
    "\\begin{array}{cc} c^2(u_{xx}+u_{yy}) = u_{tt}& x,y\\in(0,L), t>0 \\\\\n",
    "                         u(x,y,0) = f(x,y) & x,y\\in (0,L) \\\\\n",
    "                         u(0,0,t)=u(L,L,t)=0 & t > 0\\\\\n",
    "                         \\partial u/\\partial t|_{t=0}= g(x,y) & x,y\\in (0,L)\\\\\n",
    "                       \\end{array} .\n",
    "$$"
   ]
  },
  {
   "cell_type": "markdown",
   "metadata": {},
   "source": [
    "## Analytical  Solution for the two-dimensional wave equation, first step\n",
    "Our first step is to make the ansatz"
   ]
  },
  {
   "cell_type": "markdown",
   "metadata": {},
   "source": [
    "$$\n",
    "u(x,y,t) = F(x,y) G(t),\n",
    "$$"
   ]
  },
  {
   "cell_type": "markdown",
   "metadata": {},
   "source": [
    "resulting  in the equation"
   ]
  },
  {
   "cell_type": "markdown",
   "metadata": {},
   "source": [
    "$$\n",
    "FG_{tt}= c^2(F_{xx}G+F_{yy}G),\n",
    "$$"
   ]
  },
  {
   "cell_type": "markdown",
   "metadata": {},
   "source": [
    "or"
   ]
  },
  {
   "cell_type": "markdown",
   "metadata": {},
   "source": [
    "$$\n",
    "\\frac{G_{tt}}{c^2G} =  \\frac{1}{F}(F_{xx}+F_{yy}) = -\\nu^2.\n",
    "$$"
   ]
  },
  {
   "cell_type": "markdown",
   "metadata": {},
   "source": [
    "## Analytical  Solution for the two-dimensional wave equation,\n",
    "The lhs and rhs are independent of each other and we obtain two differential equations"
   ]
  },
  {
   "cell_type": "markdown",
   "metadata": {},
   "source": [
    "$$\n",
    "F_{xx}+F_{yy}+F\\nu^2=0,\n",
    "$$"
   ]
  },
  {
   "cell_type": "markdown",
   "metadata": {},
   "source": [
    "and"
   ]
  },
  {
   "cell_type": "markdown",
   "metadata": {},
   "source": [
    "$$\n",
    "G_{tt} + Gc^2\\nu^2 =    G_{tt} + G\\lambda^2 =  0,\n",
    "$$"
   ]
  },
  {
   "cell_type": "markdown",
   "metadata": {},
   "source": [
    "with $\\lambda = c\\nu$. \n",
    "We can in turn make the following ansatz for the $x$  and $y$ dependent part"
   ]
  },
  {
   "cell_type": "markdown",
   "metadata": {},
   "source": [
    "$$\n",
    "F(x,y) = H(x)Q(y),\n",
    "$$"
   ]
  },
  {
   "cell_type": "markdown",
   "metadata": {},
   "source": [
    "which results in"
   ]
  },
  {
   "cell_type": "markdown",
   "metadata": {},
   "source": [
    "$$\n",
    "\\frac{1}{H}H_{xx} =  -\\frac{1}{Q}(Q_{yy}+Q\\nu^2)= -\\kappa^2.\n",
    "$$"
   ]
  },
  {
   "cell_type": "markdown",
   "metadata": {},
   "source": [
    "## Analytical  Solution for the two-dimensional wave equation, separation of variables\n",
    "Since the lhs and rhs are again independent of each other, we can separate the latter equation into two independent \n",
    "equations, one for $x$ and one for $y$, namely"
   ]
  },
  {
   "cell_type": "markdown",
   "metadata": {},
   "source": [
    "$$\n",
    "H_{xx} + \\kappa^2H =  0,\n",
    "$$"
   ]
  },
  {
   "cell_type": "markdown",
   "metadata": {},
   "source": [
    "and"
   ]
  },
  {
   "cell_type": "markdown",
   "metadata": {},
   "source": [
    "$$\n",
    "Q_{yy} + \\rho^2Q = 0,\n",
    "$$"
   ]
  },
  {
   "cell_type": "markdown",
   "metadata": {},
   "source": [
    "with $\\rho^2= \\nu^2-\\kappa^2$. \n",
    "\n",
    "## Analytical  Solution for the two-dimensional wave equation, separation of variables\n",
    "The second step is to solve these differential equations, which all have trigonometric functions as solutions, viz."
   ]
  },
  {
   "cell_type": "markdown",
   "metadata": {},
   "source": [
    "$$\n",
    "H(x) = A\\cos(\\kappa x)+B\\sin(\\kappa x),\n",
    "$$"
   ]
  },
  {
   "cell_type": "markdown",
   "metadata": {},
   "source": [
    "and"
   ]
  },
  {
   "cell_type": "markdown",
   "metadata": {},
   "source": [
    "$$\n",
    "Q(y) = C\\cos(\\rho y)+D\\sin(\\rho y).\n",
    "$$"
   ]
  },
  {
   "cell_type": "markdown",
   "metadata": {},
   "source": [
    "## Analytical  Solution for the two-dimensional wave equation, boundary conditions\n",
    "The boundary conditions require that $F(x,y) = H(x)Q(y)$ are zero at the boundaries, meaning that\n",
    "$H(0)=H(L)=Q(0)=Q(L)=0$.  This yields the solutions"
   ]
  },
  {
   "cell_type": "markdown",
   "metadata": {},
   "source": [
    "$$\n",
    "H_m(x) = \\sin(\\frac{m\\pi x}{L}) \\hspace{1cm} Q_n(y) = \\sin(\\frac{n\\pi y}{L}),\n",
    "$$"
   ]
  },
  {
   "cell_type": "markdown",
   "metadata": {},
   "source": [
    "or"
   ]
  },
  {
   "cell_type": "markdown",
   "metadata": {},
   "source": [
    "$$\n",
    "F_{mn}(x,y) = \\sin(\\frac{m\\pi x}{L})\\sin(\\frac{n\\pi y}{L}).\n",
    "$$"
   ]
  },
  {
   "cell_type": "markdown",
   "metadata": {},
   "source": [
    "With $\\rho^2= \\nu^2-\\kappa^2$ and $\\lambda = c\\nu$ we have an eigenspectrum $\\lambda=c\\sqrt{\\kappa^2+\\rho^2}$ \n",
    "or $\\lambda_{mn}= c\\pi/L\\sqrt{m^2+n^2}$. \n",
    "\n",
    "\n",
    "## Analytical  Solution for the two-dimensional wave equation, separation of variables and solutions\n",
    "The solution for $G$ is"
   ]
  },
  {
   "cell_type": "markdown",
   "metadata": {},
   "source": [
    "$$\n",
    "G_{mn}(t) = B_{mn}\\cos(\\lambda_{mn} t)+D_{mn}\\sin(\\lambda_{mn} t),\n",
    "$$"
   ]
  },
  {
   "cell_type": "markdown",
   "metadata": {},
   "source": [
    "with the general solution of the form"
   ]
  },
  {
   "cell_type": "markdown",
   "metadata": {},
   "source": [
    "$$\n",
    "u(x,y,t) = \\sum_{mn=1}^{\\infty} u_{mn}(x,y,t) = \\sum_{mn=1}^{\\infty}F_{mn}(x,y)G_{mn}(t).\n",
    "$$"
   ]
  },
  {
   "cell_type": "markdown",
   "metadata": {},
   "source": [
    "## Analytical  Solution for the two-dimensional wave equation, final steps\n",
    "The final step is to determine the coefficients $B_{mn}$ and $D_{mn}$ from the Fourier coefficients.\n",
    "The equations for these  are determined by the initial conditions $u(x,y,0) = f(x,y)$ and \n",
    "$\\partial u/\\partial t|_{t=0}= g(x,y)$. \n",
    "The final expressions are"
   ]
  },
  {
   "cell_type": "markdown",
   "metadata": {},
   "source": [
    "$$\n",
    "B_{mn} = \\frac{2}{L}\\int_0^L\\int_0^L dxdy f(x,y) \\sin(\\frac{m\\pi x}{L})\\sin(\\frac{n\\pi y}{L}),\n",
    "$$"
   ]
  },
  {
   "cell_type": "markdown",
   "metadata": {},
   "source": [
    "and"
   ]
  },
  {
   "cell_type": "markdown",
   "metadata": {},
   "source": [
    "$$\n",
    "D_{mn} = \\frac{2}{L}\\int_0^L\\int_0^L dxdy g(x,y) \\sin(\\frac{m\\pi x}{L})\\sin(\\frac{n\\pi y}{L}).\n",
    "$$"
   ]
  },
  {
   "cell_type": "markdown",
   "metadata": {},
   "source": [
    "Inserting the particular functional forms of $f(x,y)$ and $g(x,y)$ one obtains the final closed-form expressions.\n",
    "\n",
    "## Python code for solving the two-dimensional wave equation\n",
    "The following Python code sets up and solves the two-dimensional  wave equation for all three methods discussed."
   ]
  },
  {
   "cell_type": "code",
   "execution_count": 2,
   "metadata": {
    "collapsed": false
   },
   "outputs": [],
   "source": [
    "#Program which solves the 2+1-dimensional wave equation by a finite difference scheme\n",
    "\n",
    "from numpy import *\n",
    "#Define the grid\n",
    "N = 31\n",
    "h = 1.0 / (N-1)\n",
    "dt = .0005\n",
    "t_steps = 10000\n",
    "x,y = ndgrid(linspace(0,1,N),linspace(0,1,N),sparse=False)\n",
    "\n",
    "alpha = dt**2 / h**2\n",
    "\n",
    "#Initial conditions with du/dt = 0\n",
    "u = sin(x*pi)*cos(y*pi-pi/2)\n",
    "u_old = zeros(u.shape,type(u[0,0]))\n",
    "for i in xrange(1,N-1):\n",
    "    for j in xrange(1,N-1):\n",
    "        u_old[i,j] = u[i,j] + (alpha/2)*(u[i+1,j] - 4*u[i,j] + u[i-1,j] + u[i,j+1] + u[i,j-1])\n",
    "u_new = zeros(u.shape,type(u[0,0]))\n",
    "\n",
    "#We don't necessarily want to plot every time step. We plot every n'th step where\n",
    "n = 100\n",
    "plotnr = 0\n",
    "\n",
    "#Iteration over time steps\n",
    "for k in xrange(t_steps):\n",
    "    for i in xrange(1,N-1): #1 - N-2 because we don't want to change the boundaries\n",
    "        for j in xrange(1,N-1):\n",
    "            u_new[i,j] = 2*u[i,j] - u_old[i,j] + alpha*(u[i+1,j] - 4*u[i,j] + u[i-1,j] + u[i,j+1] + u[i,j-1])\n",
    "\n",
    "    #Prepare for next time step by manipulating pointers\n",
    "    temp = u_new\n",
    "    u_new = u_old\n",
    "    u_old = u\n",
    "    u = temp\n",
    "#To do: Make movie"
   ]
  }
 ],
 "metadata": {},
 "nbformat": 4,
 "nbformat_minor": 0
}

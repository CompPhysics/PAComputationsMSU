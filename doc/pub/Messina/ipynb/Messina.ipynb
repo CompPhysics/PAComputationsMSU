{
 "cells": [
  {
   "cell_type": "markdown",
   "metadata": {},
   "source": [
    "<!-- dom:TITLE: Examples on how to integrate a computational perspective in physics courses -->\n",
    "# Examples on how to integrate a computational perspective in physics courses\n",
    "<!-- dom:AUTHOR: Morten Hjorth-Jensen at Michigan State University, USA, and University of Oslo, Norway -->\n",
    "<!-- Author: -->  \n",
    "**Morten Hjorth-Jensen**, Michigan State University, USA, and University of Oslo, Norway\n",
    "\n",
    "Date: **Jun 21, 2018**\n",
    "\n",
    "<!-- !split  -->\n",
    "## Why Computing in Physics Courses\n",
    "* One of two jobs in the stem fields will in 2020 be within computing.\n",
    "\n",
    "* Demands on computing in research continue to grow.\n",
    "\n",
    "* How can we integrate computing in core Physics courses in a coordinated and coherent way? \n",
    "\n",
    "* Computing competence represents a central element in scientific problem solving, from basic education and research to essentially almost all advanced problems in modern societies.\n",
    "\n",
    "\n",
    "\n",
    "\n",
    "\n",
    "<!-- !split  -->\n",
    "## A large fraction of our students get jobs were computing is central\n",
    "Computational modeling and data analysis is core to a variety of non-academic career paths that are often pursued by physics students following the receipt of their Bachelor's degree.\n",
    "\n",
    "\n",
    "A 2012 AIP (American Institute of Physics) survey of 5,000 recent physics Bachelor’s degree recipients indicated that 50% chose to enter the workforce immediately after receiving their degree. \n",
    "Of these, roughly 75% go into STEM-related fields including engineering, software development, or information technology.\n",
    "\n",
    "\n",
    "Depending on sub-field, 60-80% of physics degree-holders in industry regularly need to engage in computer programming, simulation and modeling tasks. \n",
    "Many respondents to the survey stressed the importance of computer skills, including programming, in increasing their marketability to potential employers.\n",
    "\n",
    "\n",
    "\n",
    "\n",
    "## Computing as a way to develop intuition about the scientific process\n",
    "The use of computational modeling in the classroom setting provides students with insights that are complementary to those resulting from pencil-and-paper manipulation of equations.\n",
    "\n",
    "\n",
    "Computing in core physics courses allows us to bring important elements of scientific methods at a much earlier stage in our students' education.\n",
    "\n",
    "\n",
    "\n",
    "The ability to closely examine the behavior of systems that are too complex to be easily analytically tractable, or that have no analytic solutions (i.e., many systems of practical interest), helps to develop intuition that is unavailable to many students from analytic calculation.\n",
    "\n",
    "\n",
    "\n",
    "\n",
    "## Computing competence\n",
    "**Computing means solving scientific problems using all possible tools**, including symbolic computing, computers and numerical algorithms, and analytical paper and pencil solutions .\n",
    "\n",
    "**Computing is about developing an understanding of the scientific method** by enhancing algorithmic thinking when solving problems.\n",
    "\n",
    "On the part of students, this competence involves being able to:\n",
    "\n",
    "* understand how algorithms are used to solve mathematical problems,\n",
    "\n",
    "* derive, verify, and implement algorithms,\n",
    "\n",
    "* understand what can go wrong with algorithms,\n",
    "\n",
    "* use these algorithms to construct reproducible scientific outcomes and to engage in science in ethical ways, and\n",
    "\n",
    "* think algorithmically for the purposes of gaining deeper insights about scientific problems.\n",
    "\n",
    "\n",
    "\n",
    "## Better understanding of the scientific method\n",
    "All these elements are central for maturing and gaining a better understanding of the modern scientific process *per se*.\n",
    "\n",
    "The power of the scientific method lies in identifying a given problem\n",
    "as a special case of an abstract class of problems, identifying\n",
    "general solution methods for this class of problems, and applying a\n",
    "general method to the specific problem (applying means, in the case of\n",
    "computing, calculations by pen and paper, symbolic computing, or\n",
    "numerical computing by ready-made and/or self-written software). This\n",
    "generic view on problems and methods is particularly important for\n",
    "understanding how to apply available, generic software to solve a\n",
    "particular problem.\n",
    "\n",
    "\n",
    "\n",
    "\n",
    "## Started initiative at Michigan State University\n",
    "\n",
    "There are several courses in Physics where numerical exercises and/or projects have been included.   \n",
    "Examples are: PHY321 (Mechanics), PHY410 (Thermal Physics), PHY415 (Mathematical Methods in Physics), PHY481 (Electromagnetism I) and PHY482 (Electromagnetism II).\n",
    "\n",
    "The programming course CMSE 201 is required in order to take PHY321. Our students have thus a good basis in scientific programming\n",
    "\n",
    "We have proposed a focus on integrating computing in upper division physics courses including:\n",
    "* outline proposed learning outcomes relating to computational modeling and data analysis within the upper-division physics curriculum,\n",
    "\n",
    "* offer a concrete and realistic plan of action that will allow us to attain these learning outcomes for selected courses, and\n",
    "\n",
    "* provide a plan to assess the progress of our efforts.   \n",
    "\n",
    "## Started initiative at Michigan State University\n",
    "\n",
    "The proposed computational curriculum goals are to:\n",
    "* Integrate computational learning practices in PHY321 by Fall 2018 or Spring 2019\n",
    "\n",
    "* Gradually integrate the remaining core (also elective) courses (PHY410, PHY415, PHY451, PHY471, PHY481), keeping pace with the cohort of students on this initial schedule.\n",
    "\n",
    "* Develop resources to support faculty and ensure continuity over year-to-year transitions.\n",
    "\n",
    "* Maintain program vitality by systematically refreshing computational course material as our programs evolve.\n",
    "\n",
    "* The working group will continue to work on the above action items and will invite current (and future) instructors to serve as members of the working group for the specific courses.\n",
    "\n",
    "## Implementation in Oslo: The [C(omputing in)S(cience)E(Education)](http://www.mn.uio.no/ccse/english/people/index.html)  project (since 2003)\n",
    "**What we do.**\n",
    "\n",
    "* Coordinated use of computational exercises and numerical tools in most undergraduate courses.\n",
    "\n",
    "* Help update the scientific staff's competence on computational aspects and give support (scientific, pedagogical and financial)  to those who wish to revise  their courses in a computational direction.\n",
    "\n",
    "* Teachers get good summer students to aid in introducing computational exercises\n",
    "\n",
    "* Develop courses and exercise modules with a computational perspective, both for students and teachers. New textbooks!! \n",
    "\n",
    "* Basic idea: mixture of mathematics, computation, informatics and topics from the physical sciences.\n",
    "\n",
    "Interesting outcome: higher focus on teaching and pedagogical issues!!\n",
    "\n",
    "\n",
    "\n",
    "## Example of bachelor program, Physics and Astronomy (astro path), University of Oslo\n",
    "<!-- dom:FIGURE: [figures/astronomy.png, width=900 frac=0.6] -->\n",
    "<!-- begin figure -->\n",
    "\n",
    "<p></p>\n",
    "<img src=\"figures/astronomy.png\" width=900>\n",
    "\n",
    "<!-- end figure -->\n",
    "\n",
    "\n",
    "\n",
    "## Example: Computations from day one\n",
    "**Differentiation.**\n",
    "\n",
    "Three courses the first semester:  MAT1100, MAT-INF1100 og INF1100.\n",
    "* Definition  of the derivative in  MAT1100 (Calculus and analysis)"
   ]
  },
  {
   "cell_type": "markdown",
   "metadata": {},
   "source": [
    "$$\n",
    "f'(x)=\\lim_{h \\rightarrow 0}\\frac{f(x+h)-f(x)}{h}.\n",
    "$$"
   ]
  },
  {
   "cell_type": "markdown",
   "metadata": {},
   "source": [
    "* Algorithms to compute the derivative in MAT-INF1100  (Mathematical modelling with computing)"
   ]
  },
  {
   "cell_type": "markdown",
   "metadata": {},
   "source": [
    "$$\n",
    "f'(x)= \\frac{f(x+h)-f(x-h)}{2h}+O(h^2).\n",
    "$$"
   ]
  },
  {
   "cell_type": "markdown",
   "metadata": {},
   "source": [
    "* Implementation in Python in INF1100"
   ]
  },
  {
   "cell_type": "code",
   "execution_count": 1,
   "metadata": {
    "collapsed": false
   },
   "outputs": [],
   "source": [
    "def differentiate(f, x, h=1E-5):\n",
    "     return (f(x+h) - f(x-h))/(2*h)"
   ]
  },
  {
   "cell_type": "markdown",
   "metadata": {},
   "source": [
    "## Example: Computations from day one\n",
    "**Differentiation and comparison with symbolic expressions.**\n",
    "\n",
    "Combined with the possibility of symbolic calculations with *Sympy*, Python offers an environment where students an\\\n",
    "d teachers alike can test many different aspects of mathematics and numerical mathematics, in addition to being abl\\\n",
    "e to verify and validate their codes. The following simple example shows how to extend the simple function for comp\\\n",
    "uting the numerical derivative with the possibility of obtaining the closed form or analytical expression"
   ]
  },
  {
   "cell_type": "code",
   "execution_count": 2,
   "metadata": {
    "collapsed": false
   },
   "outputs": [],
   "source": [
    "def differentiate(f, x, h=1E-5, symbolic=False):\n",
    "    if symbolic:\n",
    "        import sympy\n",
    "        return sympy.lambdify([x], sympy.diff(f, x))\n",
    "    else:\n",
    "        return (f(x+h) - f(x-h))/(2*h)"
   ]
  },
  {
   "cell_type": "markdown",
   "metadata": {},
   "source": [
    "## Other Examples\n",
    "**Integration by Trapezoidal Rule.**\n",
    "\n",
    "\n",
    "* Definition of integration  in MAT1100 (Calculus and analysis).\n",
    "\n",
    "* The algorithm for computing the  integral vha the Trapezoidal rule for an interval $x \\in [a,b]$"
   ]
  },
  {
   "cell_type": "markdown",
   "metadata": {},
   "source": [
    "$$\n",
    "\\int_a^b(f(x) dx \\approx \\frac{1}{2}\\left [f(a)+2f(a+h)+\\dots+2f(b-h)+f(b)\\right]\n",
    "$$"
   ]
  },
  {
   "cell_type": "markdown",
   "metadata": {},
   "source": [
    "* Taught   in MAT-INF1100  (Mathematical modelling)\n",
    "\n",
    "* The algorithm is then implemented in  INF1100 (programming course).\n",
    "\n",
    "\n",
    "\n",
    "## Typical implementation first semester of study\n",
    "**Integration by Trapezoidal Rule.**"
   ]
  },
  {
   "cell_type": "code",
   "execution_count": 3,
   "metadata": {
    "collapsed": false
   },
   "outputs": [],
   "source": [
    "from math import exp, log, sin\n",
    "def Trapez(a,b,f,n):\n",
    "   h = (b-a)/float(n)\n",
    "   s = 0\n",
    "   x = a\n",
    "   for i in range(1,n,1):\n",
    "       x = x+h\n",
    "       s = s+ f(x)\n",
    "   s = 0.5*(f(a)+f(b)) +s\n",
    "   return h*s\n",
    "\n",
    "def f1(x):\n",
    "    return exp(-x*x)*log(1+x*sin(x))\n",
    "\n",
    "a = 1;  b = 3; n = 1000\n",
    "result = Trapez(a,b,f1,n)\n",
    "print(result)"
   ]
  },
  {
   "cell_type": "markdown",
   "metadata": {},
   "source": [
    "## Symbolic calculations and numerical calculations in one code\n",
    "Python offers an  extremely versatile programming  environment, allowing for\n",
    "the inclusion of analytical studies in a numerical program. Here we show an\n",
    "example code with the **trapezoidal rule** using **SymPy** to evaluate an integral and compute the absolute error\n",
    "with respect to the numerically evaluated one of the integral\n",
    "$\\int_0^1 dx x^2 = 1/3$:"
   ]
  },
  {
   "cell_type": "code",
   "execution_count": 4,
   "metadata": {
    "collapsed": false
   },
   "outputs": [],
   "source": [
    "from math import *\n",
    "from sympy import *\n",
    "def Trapez(a,b,f,n):\n",
    "   h = (b-a)/float(n)\n",
    "   s = 0\n",
    "   x = a\n",
    "   for i in range(1,n,1):\n",
    "       x = x+h\n",
    "       s = s+ f(x)\n",
    "   s = 0.5*(f(a)+f(b)) +s\n",
    "   return h*s\n",
    "\n",
    "#  function to compute pi\n",
    "def function(x):\n",
    "    return x*x\n",
    "\n",
    "a = 0.0;  b = 1.0; n = 100\n",
    "result = Trapez(a,b,function,n)\n",
    "print(\"Trapezoidal rule=\", result)\n",
    "# define x as a symbol to be used by sympy\n",
    "x = Symbol('x')\n",
    "exact = integrate(function(x), (x, 0.0, 1.0))\n",
    "print(\"Sympy integration=\", exact)\n",
    "# Find relative error\n",
    "print(\"Relative error\", abs((exact-result)/exact))"
   ]
  },
  {
   "cell_type": "markdown",
   "metadata": {},
   "source": [
    "## Error analysis\n",
    "The following extended version of the trapezoidal rule allows you  to plot the relative error by comparing with the exact result. By increasing to $10^8$ points one arrives at a region where numerical errors start to accumulate."
   ]
  },
  {
   "cell_type": "code",
   "execution_count": 5,
   "metadata": {
    "collapsed": false
   },
   "outputs": [],
   "source": [
    "%matplotlib inline\n",
    "\n",
    "from math import log10\n",
    "import numpy as np\n",
    "from sympy import Symbol, integrate\n",
    "import matplotlib.pyplot as plt\n",
    "# function for the trapezoidal rule\n",
    "def Trapez(a,b,f,n):\n",
    "   h = (b-a)/float(n)\n",
    "   s = 0\n",
    "   x = a\n",
    "   for i in range(1,n,1):\n",
    "       x = x+h\n",
    "       s = s+ f(x)\n",
    "   s = 0.5*(f(a)+f(b)) +s\n",
    "   return h*s\n",
    "#  function to compute pi\n",
    "def function(x):\n",
    "    return x*x\n",
    "# define integration limits\n",
    "a = 0.0;  b = 1.0;\n",
    "# find result from sympy\n",
    "# define x as a symbol to be used by sympy\n",
    "x = Symbol('x')\n",
    "exact = integrate(function(x), (x, a, b))\n",
    "# set up the arrays for plotting the relative error\n",
    "n = np.zeros(9); y = np.zeros(9);\n",
    "# find the relative error as function of integration points\n",
    "for i in range(1, 8, 1):\n",
    "    npts = 10**i\n",
    "    result = Trapez(a,b,function,npts)\n",
    "    RelativeError = abs((exact-result)/exact)\n",
    "    n[i] = log10(npts); y[i] = log10(RelativeError);\n",
    "plt.plot(n,y, 'ro')\n",
    "plt.xlabel('n')\n",
    "plt.ylabel('Relative error')\n",
    "plt.show()"
   ]
  },
  {
   "cell_type": "markdown",
   "metadata": {},
   "source": [
    "## Integrating numerical mathematics with calculus\n",
    "The last example shows the potential of combining numerical algorithms with symbolic calculations, allowing thereby students and teachers to\n",
    "\n",
    "* Validate and verify  their  algorithms. \n",
    "\n",
    "* Including concepts like unit testing, one has the possibility to test and validate several or all parts of the code.\n",
    "\n",
    "* Validation and verification are then included *naturally* and one can develop a better attitude to what is meant with an ethically sound scientific approach.\n",
    "\n",
    "* The above example allows the student to also test the mathematical error of the algorithm for the trapezoidal rule by changing the number of integration points. The students get trained from day one to think error analysis. \n",
    "\n",
    "* With an Jupyter/Ipython notebook the students can keep exploring similar examples and turn them in as their own notebooks.\n",
    "\n",
    "\n",
    "\n",
    "\n",
    "\n",
    "## Additional benefits: A structured approach to solving problems\n",
    "In this process we easily bake in\n",
    "  1. How to structure a code in terms of functions\n",
    "\n",
    "  2. How to make a module\n",
    "\n",
    "  3. How to read input data flexibly from the command line\n",
    "\n",
    "  4. How to create graphical/web user interfaces\n",
    "\n",
    "  5. How to write unit tests (test functions or doctests)\n",
    "\n",
    "  6. How to refactor code in terms of classes (instead of functions only)\n",
    "\n",
    "  7. How to conduct and automate large-scale numerical experiments\n",
    "\n",
    "  8. How to write scientific reports in various formats (LaTeX, HTML)\n",
    "\n",
    "\n",
    "\n",
    "\n",
    "## Additional benefits: A structure approach to solving problems\n",
    "The conventions and techniques outlined here will save you a lot of time when you incrementally extend software over time from simpler to more complicated problems. In particular, you will benefit from many good habits:\n",
    "1. New code is added in a modular fashion to a library (modules)\n",
    "\n",
    "2. Programs are run through convenient user interfaces\n",
    "\n",
    "3. It takes one quick command to let all your code undergo heavy testing \n",
    "\n",
    "4. Tedious manual work with running programs is automated,\n",
    "\n",
    "5. Your scientific investigations are reproducible, scientific reports with top quality typesetting are produced both for paper and electronic devices.\n",
    "\n",
    "\n",
    "\n",
    "\n",
    "\n",
    "\n",
    "\n",
    "## Learning outcomes three first semesters\n",
    "**Knowledge of basic algorithms.**\n",
    "\n",
    "\n",
    "* Differential equations: Euler, modified Euler and Runge-Kutta methods (first semester)\n",
    "\n",
    "* Numerical integration: Trapezoidal and Simpson's rule, multidimensional integrals (first semester)\n",
    "\n",
    "* Random numbers, random walks, probability distributions and Monte Carlo integration  (first semester)\n",
    "\n",
    "* Linear Algebra and eigenvalue problems: Gaussian elimination, LU-decomposition, SVD, QR, Givens rotations and eigenvalues, Gauss-Seidel. (second and third semester)\n",
    "\n",
    "* Root finding and interpolation etc. (all three first semesters)\n",
    "\n",
    "* Processing of sound and images (first semester).\n",
    "\n",
    "The students have to code several of these algorithms during the first three semesters.\n",
    "\n",
    "\n",
    "\n",
    "\n",
    "## Later courses\n",
    "\n",
    "**Later courses should build on this foundation as much as possible**.\n",
    "\n",
    "1. In particular, the course should not be too basic! There should be progression in the use of mathematics, numerical methods and programming, as well as science.\n",
    "\n",
    "2. Computational platform: Python, fully object-oriented and allows for seamless integration of c++ and Fortran codes, as well as Matlab-like programming environment. Makes it easy to parallelize codes as well.\n",
    "\n",
    "\n",
    "\n",
    "## Coordination\n",
    "* Teachers in other courses need therefore not use much time on numerical tools. Naturally included in other courses.\n",
    "\n",
    "\n",
    "\n",
    "\n",
    "## Challenges...\n",
    "**.. and objections.**\n",
    "\n",
    "\n",
    "*Standard objection: computations take away the attention from other central topics in 'my course'*. \n",
    "\n",
    "CSE incorporates computations from day one, and courses higher up do not need to\n",
    "spend time on computational topics  (technicalities), but can focus on the interesting\n",
    "science applications.  Coordination and synchronization across departments and courses. Increases collaboration on teaching and awareness of pedagical research.\n",
    "\n",
    "* To help teachers: Developed pedagogical modules which can aid university teachers. Own course for teachers.\n",
    "\n",
    "\n",
    "\n",
    "\n",
    "\n",
    "\n",
    "\n",
    "\n",
    "## Examples of simple algorithms, initial value problems and proper scaling of equations\n",
    "1. Ordinary differential equations (ODE): RLC circuit\n",
    "\n",
    "2. ODE: Classical pendulum\n",
    "\n",
    "3. ODE: Solar system\n",
    "\n",
    "4. and many more cases\n",
    "\n",
    "Can use essentially the **same algorithms to solve these problems**, either some simple modified Euler algorithms or some Runge-Kutta class of algorithms or perhaps the so-called Verlet class of algorithms.  **Algorithms students use in one course can be reused in other courses**.\n",
    "\n",
    "\n",
    "\n",
    "\n",
    "\n",
    "## Mechanics and electromagnetism, initial value problems\n",
    "**When properly scaled, these equations are essentially the same. Scaling is important.**\n",
    "\n",
    "\n",
    "Classical pendulum with damping and external force as it could appear in a mechanics course."
   ]
  },
  {
   "cell_type": "markdown",
   "metadata": {},
   "source": [
    "$$\n",
    "ml\\frac{d^2\\theta}{dt^2}+\\nu\\frac{d\\theta}{dt}  +mgsin(\\theta)=Acos(\\omega t).\n",
    "$$"
   ]
  },
  {
   "cell_type": "markdown",
   "metadata": {},
   "source": [
    "Easy to solve numerically and then visualize the solution.\n",
    "Almost the same equation for an RLC circuit in the electromagnetism course,"
   ]
  },
  {
   "cell_type": "markdown",
   "metadata": {},
   "source": [
    "$$\n",
    "L\\frac{d^2Q}{dt^2}+\\frac{Q}{C}+R\\frac{dQ}{dt}=Acos(\\omega t).\n",
    "$$"
   ]
  },
  {
   "cell_type": "markdown",
   "metadata": {},
   "source": [
    "## Mechanics and electromagnetism, initial value problems and now proper scaling\n",
    "\n",
    "Classical pendulum equations with damping and external force"
   ]
  },
  {
   "cell_type": "markdown",
   "metadata": {},
   "source": [
    "$$\n",
    "\\frac{d\\theta}{d\\hat{t}} =\\hat{v},\n",
    "$$"
   ]
  },
  {
   "cell_type": "markdown",
   "metadata": {},
   "source": [
    "and"
   ]
  },
  {
   "cell_type": "markdown",
   "metadata": {},
   "source": [
    "$$\n",
    "\\frac{d\\hat{v}}{d\\hat{t}} =Acos(\\hat{\\omega} \\hat{t})-\\hat{v}\\xi-\\sin(\\theta),\n",
    "$$"
   ]
  },
  {
   "cell_type": "markdown",
   "metadata": {},
   "source": [
    "with $\\omega_0=\\sqrt{g/l}$, $\\hat{t}=\\omega_0 t$ and $\\xi = mg/\\omega_0\\nu$.\n",
    "\n",
    "The RLC circuit"
   ]
  },
  {
   "cell_type": "markdown",
   "metadata": {},
   "source": [
    "$$\n",
    "\\frac{dQ}{d\\hat{t}} =\\hat{I},\n",
    "$$"
   ]
  },
  {
   "cell_type": "markdown",
   "metadata": {},
   "source": [
    "and"
   ]
  },
  {
   "cell_type": "markdown",
   "metadata": {},
   "source": [
    "$$\n",
    "\\frac{d\\hat{I}}{d\\hat{t}} =Acos(\\hat{\\omega} \\hat{t})-\\hat{I}\\xi-Q,\n",
    "$$"
   ]
  },
  {
   "cell_type": "markdown",
   "metadata": {},
   "source": [
    "with $\\omega_0=1/\\sqrt{LC}$, $\\hat{t}=\\omega_0 t$ and $\\xi = CR\\omega_0$.\n",
    "\n",
    "The equations are essentially the same. **Great potential for abstraction**. Use the same program with small modifications.\n",
    "\n",
    "\n",
    "\n",
    "\n",
    "\n",
    "\n",
    "## Other examples of simple algorithms that can be reused in many courses, two-point boundary value problems and scaling\n",
    "These physics examples can all be studied using almost the same types of algorithms, simple eigenvalue solvers or Gaussian elimination with **almost** the same starting matrix!\n",
    "\n",
    "1. A buckling beam and tridiagonal Toeplitz matrices (mechanics and mathematical methods), eigenvalue problems\n",
    "\n",
    "2. A particle in an infinite potential well, quantum eigenvalue problems\n",
    "\n",
    "3. A particle (or two) in a general quantum well, quantum eigenvalue problems\n",
    "\n",
    "4. Poisson's  equation in one dim, linear algebra (electromagnetism)\n",
    "\n",
    "5. The diffusion equation in one dimension (Statistical Physics), linear algebra\n",
    "\n",
    "6. and many other cases\n",
    "\n",
    "\n",
    "\n",
    "\n",
    "\n",
    "## A buckling beam, or a quantum mechanical particle in an infinite well\n",
    "This is a two-point boundary value problem"
   ]
  },
  {
   "cell_type": "markdown",
   "metadata": {},
   "source": [
    "$$\n",
    "R \\frac{d^2 u(x)}{dx^2} = -F u(x),\n",
    "$$"
   ]
  },
  {
   "cell_type": "markdown",
   "metadata": {},
   "source": [
    "where $u(x)$ is the vertical displacement, $R$ is a material specific constant, $F$ the force and $x \\in [0,L]$ with $u(0)=u(L)=0$.\n",
    "\n",
    "Scale equations with $x = \\rho L$ and $\\rho \\in [0,1]$ and get (note that we change from $u(x)$ to $v(\\rho)$)"
   ]
  },
  {
   "cell_type": "markdown",
   "metadata": {},
   "source": [
    "$$\n",
    "\\frac{d^2 v(\\rho)}{dx^2} +K v(\\rho)=0,\n",
    "$$"
   ]
  },
  {
   "cell_type": "markdown",
   "metadata": {},
   "source": [
    "a standard eigenvalue problem with $K= FL^2/R$.\n",
    "\n",
    "If you replace $R=-\\hbar^2/2m$ and $-F=\\lambda$, we have the quantum mechanical variant for a particle moving in a well with infinite walls at the endpoints.\n",
    "\n",
    "\n",
    "\n",
    "## Discretize and get the same type of problem\n",
    "Discretize the second derivative and the rhs"
   ]
  },
  {
   "cell_type": "markdown",
   "metadata": {},
   "source": [
    "$$\n",
    "-\\frac{v_{i+1} -2v_i +v_{i-i}}{h^2}=\\lambda v_i,\n",
    "$$"
   ]
  },
  {
   "cell_type": "markdown",
   "metadata": {},
   "source": [
    "with $i=1,2,\\dots, n$. We need to add to this system the two boundary conditions $v(0) =v_0$ and $v(1) = v_{n+1}$.\n",
    "The so-called Toeplitz matrix (special case from the discretized second derivative)"
   ]
  },
  {
   "cell_type": "markdown",
   "metadata": {},
   "source": [
    "$$\n",
    "\\mathbf{A} = \\frac{1}{h^2}\\begin{bmatrix}\n",
    "                          2 & -1 &  &   &  & \\\\\n",
    "                          -1 & 2 & -1 & & & \\\\\n",
    "                           & -1 & 2 & -1 & &  \\\\\n",
    "                           & \\dots   & \\dots &\\dots   &\\dots & \\dots \\\\\n",
    "                           &   &  &-1  &2& -1 \\\\\n",
    "                           &    &  &   &-1 & 2 \\\\\n",
    "                      \\end{bmatrix}\n",
    "$$"
   ]
  },
  {
   "cell_type": "markdown",
   "metadata": {},
   "source": [
    "with the corresponding vectors $\\mathbf{v} = (v_1, v_2, \\dots,v_n)^T$ allows us to rewrite the differential equation\n",
    "including the boundary conditions as a standard eigenvalue problem"
   ]
  },
  {
   "cell_type": "markdown",
   "metadata": {},
   "source": [
    "$$\n",
    "\\mathbf{A}\\mathbf{v} = \\lambda\\mathbf{v}.\n",
    "$$"
   ]
  },
  {
   "cell_type": "markdown",
   "metadata": {},
   "source": [
    "The Toeplitz matrix has analytical eigenpairs!! Adding a potential along the diagonals allows us to reuse this problem for many types of physics cases.\n",
    "\n",
    "\n",
    "\n",
    "\n",
    "## Adding complexity, hydrogen-like atoms or other one-particle potentials\n",
    "Assume we want to solve the radial part of Schroedinger's equation for one particle in three dimensions. This equation reads"
   ]
  },
  {
   "cell_type": "markdown",
   "metadata": {},
   "source": [
    "$$\n",
    "-\\frac{\\hbar^2}{2 m} \\left ( \\frac{1}{r^2} \\frac{d}{dr} r^2\n",
    "  \\frac{d}{dr} - \\frac{l (l + 1)}{r^2} \\right )R(r)\n",
    "     + V(r) R(r) = E R(r).\n",
    "$$"
   ]
  },
  {
   "cell_type": "markdown",
   "metadata": {},
   "source": [
    "Suppose in our  case $V(r)$ is the harmonic oscillator potential $(1/2)kr^2$ with\n",
    "$k=m\\omega^2$ and $E$ is\n",
    "the energy of the harmonic oscillator in three dimensions.\n",
    "\n",
    "Scale now the equations with $\\rho = r/\\alpha$ where $\\alpha$ is a constant of dimension length.\n",
    "\n",
    "\n",
    "\n",
    "\n",
    "\n",
    "\n",
    "## A natural length scale comes out automagically when scaling\n",
    "Manipulating the equations by requiring"
   ]
  },
  {
   "cell_type": "markdown",
   "metadata": {},
   "source": [
    "$$\n",
    "\\frac{mk}{\\hbar^2} \\alpha^4 = 1,\n",
    "$$"
   ]
  },
  {
   "cell_type": "markdown",
   "metadata": {},
   "source": [
    "which define defines a natural length scale (like the Bohr radius does)"
   ]
  },
  {
   "cell_type": "markdown",
   "metadata": {},
   "source": [
    "$$\n",
    "\\alpha = \\left(\\frac{\\hbar^2}{mk}\\right)^{1/4}.\n",
    "$$"
   ]
  },
  {
   "cell_type": "markdown",
   "metadata": {},
   "source": [
    "Defining"
   ]
  },
  {
   "cell_type": "markdown",
   "metadata": {},
   "source": [
    "$$\n",
    "\\lambda = \\frac{2m\\alpha^2}{\\hbar^2}E,\n",
    "$$"
   ]
  },
  {
   "cell_type": "markdown",
   "metadata": {},
   "source": [
    "we can rewrite Schroedinger's equation as"
   ]
  },
  {
   "cell_type": "markdown",
   "metadata": {},
   "source": [
    "$$\n",
    "-\\frac{d^2}{d\\rho^2} v(\\rho) + \\rho^2v(\\rho)  = \\lambda v(\\rho) .\n",
    "$$"
   ]
  },
  {
   "cell_type": "markdown",
   "metadata": {},
   "source": [
    "This is similar to the equation for a buckling beam except for the potential term.\n",
    "\n",
    "\n",
    "\n",
    "\n",
    "## The Python code\n",
    "The code sets up the Hamiltonian matrix by defining the minimun and maximum values of $r$ with a\n",
    "maximum value of integration points. It plots the\n",
    "eigenfunctions of the three lowest eigenstates."
   ]
  },
  {
   "cell_type": "code",
   "execution_count": 6,
   "metadata": {
    "collapsed": false
   },
   "outputs": [],
   "source": [
    "#Program which solves the one-particle Schrodinger equation\n",
    "#for a potential specified in function\n",
    "#potential().\n",
    "\n",
    "from  matplotlib import pyplot as plt\n",
    "import numpy as np\n",
    "#Function for initialization of parameters\n",
    "def initialize():\n",
    "    RMin = 0.0\n",
    "    RMax = 10.0\n",
    "    lOrbital = 0\n",
    "    Dim = 400\n",
    "    return RMin, RMax, lOrbital, Dim\n",
    "# Harmonic oscillator here, easy to change\n",
    "def potential(r):\n",
    "    return 0.5*r*r\n",
    "\n",
    "#Get the boundary, orbital momentum and number of integration points\n",
    "RMin, RMax, lOrbital, Dim = initialize()\n",
    "\n",
    "#Initialize constants\n",
    "Step    = RMax/(Dim+1)\n",
    "DiagConst = 1.0/ (Step*Step)\n",
    "NondiagConst =  -0.5 / (Step*Step)\n",
    "OrbitalFactor = 0.5*lOrbital * (lOrbital + 1.0)\n",
    "\n",
    "#Calculate array of potential values\n",
    "v = np.zeros(Dim)\n",
    "r = np.linspace(RMin,RMax,Dim)\n",
    "for i in range(Dim):\n",
    "    r[i] = RMin + (i+1) * Step;\n",
    "    v[i] = potential(r[i]) + OrbitalFactor/(r[i]*r[i]);\n",
    "\n",
    "#Setting up a tridiagonal matrix and finding eigenvectors and eigenvalues\n",
    "Matrix = np.zeros((Dim,Dim))\n",
    "Matrix[0,0] = DiagConst + v[0];\n",
    "Matrix[0,1] = NondiagConst;\n",
    "for i in range(1,Dim-1):\n",
    "    Matrix[i,i-1]  = NondiagConst;\n",
    "    Matrix[i,i]    = DiagConst + v[i];\n",
    "    Matrix[i,i+1]  = NondiagConst;\n",
    "Matrix[Dim-1,Dim-2] = NondiagConst;\n",
    "Matrix[Dim-1,Dim-1] = DiagConst + v[Dim-1];\n",
    "# diagonalize and obtain eigenvalues, not necessarily sorted\n",
    "EigValues, EigVectors = np.linalg.eig(Matrix)\n",
    "# sort eigenvectors and eigenvalues\n",
    "permute = EigValues.argsort()\n",
    "EigValues = EigValues[permute]\n",
    "EigVectors = EigVectors[:,permute]\n",
    "# now plot the results for the three lowest lying eigenstates\n",
    "for i in range(3):\n",
    "    print(EigValues[i])\n",
    "FirstEigvector = EigVectors[:,0]\n",
    "SecondEigvector = EigVectors[:,1]\n",
    "ThirdEigvector = EigVectors[:,2]\n",
    "plt.plot(r, FirstEigvector**2 ,'b-',r, SecondEigvector**2 ,'g-',r, ThirdEigvector**2 ,'r-')\n",
    "plt.axis([0,4.6,0.0, 0.025])\n",
    "plt.xlabel(r'$r$')\n",
    "plt.ylabel(r'Radial probability $r^2|R(r)|^2$')\n",
    "plt.title(r'Radial probability distributions for three lowest-lying states')\n",
    "plt.savefig('eigenvector.pdf')\n",
    "plt.show()"
   ]
  },
  {
   "cell_type": "markdown",
   "metadata": {},
   "source": [
    "## The power of numerical methods\n",
    "The last example shows the potential of combining numerical algorithms with analytical results (or eventually symbolic calculations). \n",
    "A simple change of potential gives a new physics case, example of a box potential"
   ]
  },
  {
   "cell_type": "code",
   "execution_count": 7,
   "metadata": {
    "collapsed": false
   },
   "outputs": [],
   "source": [
    "# Different types of potentials\n",
    "def potential(r):\n",
    "    if r >= 0.0 and r <= 10.0:\n",
    "        V = -0.05\n",
    "    else:\n",
    "        V =0.0\n",
    "    return V"
   ]
  },
  {
   "cell_type": "markdown",
   "metadata": {},
   "source": [
    "This allows students and teachers to\n",
    "\n",
    "* make abstraction and explore other physics cases easily where no analytical solutions are known\n",
    "\n",
    "* Validate and verify  their  algorithms.\n",
    "\n",
    "* Including concepts like unit testing, one has the possibility to test and validate several or all parts of the code.\n",
    "\n",
    "* Validation and verification are then included *naturally* and one can develop a better attitude to what is meant with an ethically sound scientific approach.\n",
    "\n",
    "* The above example allows the student to also test the mathematical error of the algorithm for the eigenvalue solver by changing the number of integration points. The students get trained from day one to think error analysis.\n",
    "\n",
    "* The algorithm can be tailored to any kind of one-particle problem used in quantum mechanics or eigenvalue problems\n",
    "\n",
    "* A simple rewrite allows for reuse in linear algebra problems for solution of say Poisson's equation in electromagnetism, or the diffusion equation in one dimension.\n",
    "\n",
    "* With an ipython notebook the students can keep exploring similar examples and turn them in as their own notebooks.\n",
    "\n",
    "\n",
    "\n",
    "\n",
    "\n",
    "\n",
    "## Which aspects are important for a successful introduction of CSE?\n",
    "\n",
    "* Early introduction, programming course at beginning of studies linked with math courses and science and engineering courses.\n",
    "\n",
    "* Crucial to learn proper programming at the beginning.\n",
    "\n",
    "* Good TAs\n",
    "\n",
    "* Choice of software.\n",
    "\n",
    "* Textbooks and modularization of topics, ask for details\n",
    "\n",
    "* Resources and expenses.\n",
    "\n",
    "* Tailor to specific disciplines.\n",
    "\n",
    "* Organizational matters.\n",
    "\n",
    "* With a local  physics education group one can do much more!! At MSU we have a very strong [Physics Education Research group headed by Danny Caballero and Washti Sawtelle](http://create4stem.msu.edu/group/perl)\n",
    "\n",
    "\n",
    "\n",
    "\n",
    "\n",
    "## Summary\n",
    "\n",
    "* Make our research visible in early undergraduate courses, enhance research based teaching\n",
    "\n",
    "* Possibility to focus more on understanding and increased insight.\n",
    "\n",
    "* Impetus for broad cooperation in teaching. Broad focus on university pedagogical topics.\n",
    "\n",
    "* Strengthening of instruction based teaching (expensive and time-consuming).\n",
    "\n",
    "* Give our candidates a broader and more up-to-date education with a problem-based orientation, often requested by potential employers.\n",
    "\n",
    "* And perhaps the most important issue: does this enhance the student's insight in the Sciences?\n",
    "\n",
    "We invite you to visit (online and/or in real life) our new center on [Computing in Science Education](http://www.mn.uio.no/ccse/english/)\n",
    "\n",
    "\n",
    "\n",
    "\n",
    "\n",
    "\n",
    "## More links\n",
    "* Python and our first programming course, first semester [course](http://www.uio.no/studier/emner/matnat/ifi/INF1100/h14/). Excellent new textbook by Hans Petter Langtangen, click here for the [textbook](http://www.amazon.com/Scientific-Programming-Computational-Science-Engineering-ebook/dp/B00DGER1NQ/ref=sr_1_2?ie=UTF8&qid=1425382942&sr=8-2&keywords=langtangen) or the [online version](http://hplgit.github.io/primer.html/doc/web/index.html)\n",
    "\n",
    "* Mathematical modelling course, first semester [course](http://www.uio.no/studier/emner/matnat/math/MAT-INF1100/h14/). Textbook by Knut Morken to be published by Springer.\n",
    "\n",
    "* Mechanics, second semester [course](http://www.uio.no/studier/emner/matnat/fys/FYS-MEK1100/v12/). New textbook by Anders Malthe-Sorenssen, published by Springer, [Undergraduate Lecture Notes in Physics](http://www.springer.com/us/book/9783319195957)\n",
    "\n",
    "* Computational Physics I, fifth semester [course](http://www.uio.no/studier/emner/matnat/fys/FYS3150/h15/). Textbook to be published by IOP, with [online version](https://github.com/CompPhysics/ComputationalPhysics1)\n",
    "\n",
    "* Book on waves and motion, Statistical Physics and Quantum physics to come, stay tuned!!"
   ]
  }
 ],
 "metadata": {},
 "nbformat": 4,
 "nbformat_minor": 2
}
